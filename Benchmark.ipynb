{
 "cells": [
  {
   "cell_type": "code",
   "execution_count": 7,
   "id": "6d5d0d9f",
   "metadata": {},
   "outputs": [],
   "source": [
    "import pandas as pd\n",
    "import seaborn as sns\n",
    "import matplotlib.pyplot as plt\n",
    "import pandas as pd\n",
    "import numpy as np"
   ]
  },
  {
   "cell_type": "code",
   "execution_count": 2,
   "id": "664cdce9",
   "metadata": {},
   "outputs": [],
   "source": [
    "EDF_APP_OUTPUT_FILE = \"/home/muuurk/Projects/RT_computation_node/python_app_edf.txt\"\n",
    "DEFAULT_SCHED_APP_OUTPUT_FILE = \"/home/muuurk/Projects/RT_computation_node/python_app_default_scheduler.txt\""
   ]
  },
  {
   "cell_type": "code",
   "execution_count": 3,
   "id": "0d780282",
   "metadata": {},
   "outputs": [
    {
     "name": "stdout",
     "output_type": "stream",
     "text": [
      "    Finish times w/ EDF  Finish times w/- EDF\n",
      "0             500151457             500658904\n",
      "1             500070538             500580162\n",
      "2             500034226             500790752\n",
      "3             500068408             501375492\n",
      "4             500150492             500550118\n",
      "..                  ...                   ...\n",
      "95            500082558             500648324\n",
      "96            500072812             500621555\n",
      "97            500078844             500623135\n",
      "98            500203605             500584944\n",
      "99            500070325             500607489\n",
      "\n",
      "[100 rows x 2 columns]\n",
      "    App finish times Scheduler\n",
      "0          500151457       EDF\n",
      "1          500070538       EDF\n",
      "2          500034226       EDF\n",
      "3          500068408       EDF\n",
      "4          500150492       EDF\n",
      "..               ...       ...\n",
      "95         500648324   DEFAULT\n",
      "96         500621555   DEFAULT\n",
      "97         500623135   DEFAULT\n",
      "98         500584944   DEFAULT\n",
      "99         500607489   DEFAULT\n",
      "\n",
      "[200 rows x 2 columns]\n"
     ]
    }
   ],
   "source": [
    "df1 = pd.read_csv(EDF_APP_OUTPUT_FILE, sep=\" \", header=None, names=[\"App finish times\"])\n",
    "df2 = pd.read_csv(DEFAULT_SCHED_APP_OUTPUT_FILE, sep=\" \", header=None, names=[\"App finish times\"])\n",
    "\n",
    "finish_times = pd.concat([df1, df2], axis=1)\n",
    "finish_times = finish_times.set_axis(['Finish times w/ EDF', 'Finish times w/- EDF'], axis=1, inplace=False)\n",
    "\n",
    "\n",
    "df1['Scheduler'] = \"EDF\"\n",
    "df2['Scheduler'] = \"DEFAULT\"\n",
    "finish_times_sns = pd.concat([df1, df2])\n",
    "\n",
    "print(finish_times)\n",
    "print(finish_times_sns)"
   ]
  },
  {
   "cell_type": "code",
   "execution_count": 4,
   "id": "d1b44e33",
   "metadata": {},
   "outputs": [
    {
     "name": "stdout",
     "output_type": "stream",
     "text": [
      "\t\tEDF\t\t\tDefault\n",
      "Standard Dev.\t70893.98655275226\t461567.7570168389\n",
      "Median\t\t500108598.0\t\t500600205.5\n",
      "90% Percentile\t500163505.2\t\t500699137.8\n",
      "Max\t\t500467821\t\t504866386\n"
     ]
    }
   ],
   "source": [
    "edf_std = finish_times[\"Finish times w/ EDF\"].std()\n",
    "non_edf_std = finish_times[\"Finish times w/- EDF\"].std()\n",
    "\n",
    "edf_med = finish_times[\"Finish times w/ EDF\"].median()\n",
    "non_edf_med = finish_times[\"Finish times w/- EDF\"].median()\n",
    "\n",
    "edf_max = finish_times[\"Finish times w/ EDF\"].max()\n",
    "non_edf_max = finish_times[\"Finish times w/- EDF\"].max()\n",
    "\n",
    "edf_perc = finish_times[\"Finish times w/ EDF\"].quantile(0.9)\n",
    "non_edf_perc = finish_times[\"Finish times w/- EDF\"].quantile(0.9)\n",
    "\n",
    "print(\"\\t\\tEDF\\t\\t\\tDefault\")\n",
    "print(\"Standard Dev.\\t{}\\t{}\".format(edf_std, non_edf_std))\n",
    "print(\"Median\\t\\t{}\\t\\t{}\".format(edf_med, non_edf_med))\n",
    "print(\"90% Percentile\\t{}\\t\\t{}\".format(edf_perc, non_edf_perc))\n",
    "print(\"Max\\t\\t{}\\t\\t{}\".format(edf_max, non_edf_max))"
   ]
  },
  {
   "cell_type": "code",
   "execution_count": 5,
   "id": "ae4ec7ea",
   "metadata": {},
   "outputs": [
    {
     "data": {
      "image/png": "[encoded data removed]",
      "text/plain": [
       "<Figure size 432x288 with 1 Axes>"
      ]
     },
     "metadata": {
      "needs_background": "light"
     },
     "output_type": "display_data"
    }
   ],
   "source": [
    "sns.violinplot( y=finish_times_sns[\"App finish times\"], x=finish_times_sns[\"Scheduler\"]);\n",
    "plt.show()"
   ]
  },
  {
   "cell_type": "code",
   "execution_count": 11,
   "id": "11724f3e",
   "metadata": {},
   "outputs": [
    {
     "data": {
      "application/vnd.plotly.v1+json": {
       "config": {
        "plotlyServerURL": "https://plot.ly"
       },
       "data": [
        {
         "alignmentgroup": "True",
         "hovertemplate": "variable=%{x}<br>value=%{y}<extra></extra>",
         "legendgroup": "",
         "marker": {
          "color": "#636efa"
         },
         "name": "",
         "notched": false,
         "offsetgroup": "",
         "orientation": "v",
         "showlegend": false,
         "type": "box",
         "x": [
          "Finish times w/ EDF",
          "Finish times w/ EDF",
          "Finish times w/ EDF",
          "Finish times w/ EDF",
          "Finish times w/ EDF",
          "Finish times w/ EDF",
          "Finish times w/ EDF",
          "Finish times w/ EDF",
          "Finish times w/ EDF",
          "Finish times w/ EDF",
          "Finish times w/ EDF",
          "Finish times w/ EDF",
          "Finish times w/ EDF",
          "Finish times w/ EDF",
          "Finish times w/ EDF",
          "Finish times w/ EDF",
          "Finish times w/ EDF",
          "Finish times w/ EDF",
          "Finish times w/ EDF",
          "Finish times w/ EDF",
          "Finish times w/ EDF",
          "Finish times w/ EDF",
          "Finish times w/ EDF",
          "Finish times w/ EDF",
          "Finish times w/ EDF",
          "Finish times w/ EDF",
          "Finish times w/ EDF",
          "Finish times w/ EDF",
          "Finish times w/ EDF",
          "Finish times w/ EDF",
          "Finish times w/ EDF",
          "Finish times w/ EDF",
          "Finish times w/ EDF",
          "Finish times w/ EDF",
          "Finish times w/ EDF",
          "Finish times w/ EDF",
          "Finish times w/ EDF",
          "Finish times w/ EDF",
          "Finish times w/ EDF",
          "Finish times w/ EDF",
          "Finish times w/ EDF",
          "Finish times w/ EDF",
          "Finish times w/ EDF",
          "Finish times w/ EDF",
          "Finish times w/ EDF",
          "Finish times w/ EDF",
          "Finish times w/ EDF",
          "Finish times w/ EDF",
          "Finish times w/ EDF",
          "Finish times w/ EDF",
          "Finish times w/ EDF",
          "Finish times w/ EDF",
          "Finish times w/ EDF",
          "Finish times w/ EDF",
          "Finish times w/ EDF",
          "Finish times w/ EDF",
          "Finish times w/ EDF",
          "Finish times w/ EDF",
          "Finish times w/ EDF",
          "Finish times w/ EDF",
          "Finish times w/ EDF",
          "Finish times w/ EDF",
          "Finish times w/ EDF",
          "Finish times w/ EDF",
          "Finish times w/ EDF",
          "Finish times w/ EDF",
          "Finish times w/ EDF",
          "Finish times w/ EDF",
          "Finish times w/ EDF",
          "Finish times w/ EDF",
          "Finish times w/ EDF",
          "Finish times w/ EDF",
          "Finish times w/ EDF",
          "Finish times w/ EDF",
          "Finish times w/ EDF",
          "Finish times w/ EDF",
          "Finish times w/ EDF",
          "Finish times w/ EDF",
          "Finish times w/ EDF",
          "Finish times w/ EDF",
          "Finish times w/ EDF",
          "Finish times w/ EDF",
          "Finish times w/ EDF",
          "Finish times w/ EDF",
          "Finish times w/ EDF",
          "Finish times w/ EDF",
          "Finish times w/ EDF",
          "Finish times w/ EDF",
          "Finish times w/ EDF",
          "Finish times w/ EDF",
          "Finish times w/ EDF",
          "Finish times w/ EDF",
          "Finish times w/ EDF",
          "Finish times w/ EDF",
          "Finish times w/ EDF",
          "Finish times w/ EDF",
          "Finish times w/ EDF",
          "Finish times w/ EDF",
          "Finish times w/ EDF",
          "Finish times w/ EDF",
          "Finish times w/- EDF",
          "Finish times w/- EDF",
          "Finish times w/- EDF",
          "Finish times w/- EDF",
          "Finish times w/- EDF",
          "Finish times w/- EDF",
          "Finish times w/- EDF",
          "Finish times w/- EDF",
          "Finish times w/- EDF",
          "Finish times w/- EDF",
          "Finish times w/- EDF",
          "Finish times w/- EDF",
          "Finish times w/- EDF",
          "Finish times w/- EDF",
          "Finish times w/- EDF",
          "Finish times w/- EDF",
          "Finish times w/- EDF",
          "Finish times w/- EDF",
          "Finish times w/- EDF",
          "Finish times w/- EDF",
          "Finish times w/- EDF",
          "Finish times w/- EDF",
          "Finish times w/- EDF",
          "Finish times w/- EDF",
          "Finish times w/- EDF",
          "Finish times w/- EDF",
          "Finish times w/- EDF",
          "Finish times w/- EDF",
          "Finish times w/- EDF",
          "Finish times w/- EDF",
          "Finish times w/- EDF",
          "Finish times w/- EDF",
          "Finish times w/- EDF",
          "Finish times w/- EDF",
          "Finish times w/- EDF",
          "Finish times w/- EDF",
          "Finish times w/- EDF",
          "Finish times w/- EDF",
          "Finish times w/- EDF",
          "Finish times w/- EDF",
          "Finish times w/- EDF",
          "Finish times w/- EDF",
          "Finish times w/- EDF",
          "Finish times w/- EDF",
          "Finish times w/- EDF",
          "Finish times w/- EDF",
          "Finish times w/- EDF",
          "Finish times w/- EDF",
          "Finish times w/- EDF",
          "Finish times w/- EDF",
          "Finish times w/- EDF",
          "Finish times w/- EDF",
          "Finish times w/- EDF",
          "Finish times w/- EDF",
          "Finish times w/- EDF",
          "Finish times w/- EDF",
          "Finish times w/- EDF",
          "Finish times w/- EDF",
          "Finish times w/- EDF",
          "Finish times w/- EDF",
          "Finish times w/- EDF",
          "Finish times w/- EDF",
          "Finish times w/- EDF",
          "Finish times w/- EDF",
          "Finish times w/- EDF",
          "Finish times w/- EDF",
          "Finish times w/- EDF",
          "Finish times w/- EDF",
          "Finish times w/- EDF",
          "Finish times w/- EDF",
          "Finish times w/- EDF",
          "Finish times w/- EDF",
          "Finish times w/- EDF",
          "Finish times w/- EDF",
          "Finish times w/- EDF",
          "Finish times w/- EDF",
          "Finish times w/- EDF",
          "Finish times w/- EDF",
          "Finish times w/- EDF",
          "Finish times w/- EDF",
          "Finish times w/- EDF",
          "Finish times w/- EDF",
          "Finish times w/- EDF",
          "Finish times w/- EDF",
          "Finish times w/- EDF",
          "Finish times w/- EDF",
          "Finish times w/- EDF",
          "Finish times w/- EDF",
          "Finish times w/- EDF",
          "Finish times w/- EDF",
          "Finish times w/- EDF",
          "Finish times w/- EDF",
          "Finish times w/- EDF",
          "Finish times w/- EDF",
          "Finish times w/- EDF",
          "Finish times w/- EDF",
          "Finish times w/- EDF",
          "Finish times w/- EDF",
          "Finish times w/- EDF",
          "Finish times w/- EDF"
         ],
         "x0": " ",
         "xaxis": "x",
         "y": [
          500151457,
          500070538,
          500034226,
          500068408,
          500150492,
          500075624,
          500081397,
          500067150,
          500107582,
          500124203,
          500153798,
          500188272,
          500059595,
          500084220,
          500122729,
          500127877,
          500144722,
          500118447,
          500132167,
          500120842,
          500110991,
          500111778,
          500158403,
          500109614,
          500075813,
          500093531,
          500146174,
          500105624,
          500161861,
          500065868,
          500117628,
          500086793,
          500148027,
          500069935,
          500358245,
          500067929,
          500114645,
          500172180,
          500068157,
          500025457,
          500315331,
          500091447,
          500161568,
          500062079,
          500075834,
          500093709,
          500096453,
          500056080,
          500130597,
          500079067,
          500077517,
          500117571,
          500153609,
          500088003,
          500172147,
          500160540,
          500041044,
          500087672,
          500092496,
          500162545,
          500117472,
          500079893,
          500097880,
          500312038,
          500090098,
          500068946,
          500032641,
          500059794,
          500110341,
          500064397,
          500118389,
          500149018,
          500121480,
          500106867,
          500122041,
          500119849,
          500062633,
          500145360,
          500058764,
          500394444,
          500033013,
          500467821,
          500079142,
          500093607,
          500133268,
          500150579,
          500142272,
          500034412,
          500069089,
          500061705,
          500173605,
          500140511,
          500139984,
          500141146,
          500138903,
          500082558,
          500072812,
          500078844,
          500203605,
          500070325,
          500658904,
          500580162,
          500790752,
          501375492,
          500550118,
          500600137,
          500609747,
          500739710,
          504866386,
          500613158,
          500617577,
          500613244,
          501036447,
          500354390,
          500574220,
          500569635,
          500620030,
          500593785,
          500610790,
          500639492,
          500600274,
          500136186,
          500571911,
          500580183,
          500578505,
          500610414,
          500566770,
          500617743,
          500298390,
          500576135,
          500539454,
          500656476,
          500604102,
          500557155,
          501006661,
          500577355,
          500594072,
          500266251,
          500629962,
          500626642,
          500356399,
          500564165,
          500604835,
          500589632,
          500565076,
          500572520,
          500644395,
          500158570,
          500564301,
          500576466,
          500661935,
          500611737,
          500615587,
          500657480,
          500591463,
          500566075,
          500225587,
          500295694,
          500638907,
          500802082,
          500656330,
          500716317,
          500465617,
          500584090,
          500619746,
          500585381,
          500563769,
          500254961,
          500554150,
          500646551,
          500628443,
          500629676,
          500368454,
          500559030,
          500473047,
          500209788,
          500119425,
          500289880,
          500591761,
          500613598,
          500691970,
          500583262,
          500566604,
          500558401,
          500697229,
          500629358,
          500604316,
          500643570,
          500565483,
          500562580,
          500622833,
          500764816,
          500634443,
          500696325,
          500941766,
          500648324,
          500621555,
          500623135,
          500584944,
          500607489
         ],
         "y0": " ",
         "yaxis": "y"
        }
       ],
       "layout": {
        "boxmode": "group",
        "legend": {
         "tracegroupgap": 0
        },
        "margin": {
         "t": 60
        },
        "template": {
         "data": {
          "bar": [
           {
            "error_x": {
             "color": "#2a3f5f"
            },
            "error_y": {
             "color": "#2a3f5f"
            },
            "marker": {
             "line": {
              "color": "#E5ECF6",
              "width": 0.5
             },
             "pattern": {
              "fillmode": "overlay",
              "size": 10,
              "solidity": 0.2
             }
            },
            "type": "bar"
           }
          ],
          "barpolar": [
           {
            "marker": {
             "line": {
              "color": "#E5ECF6",
              "width": 0.5
             },
             "pattern": {
              "fillmode": "overlay",
              "size": 10,
              "solidity": 0.2
             }
            },
            "type": "barpolar"
           }
          ],
          "carpet": [
           {
            "aaxis": {
             "endlinecolor": "#2a3f5f",
             "gridcolor": "white",
             "linecolor": "white",
             "minorgridcolor": "white",
             "startlinecolor": "#2a3f5f"
            },
            "baxis": {
             "endlinecolor": "#2a3f5f",
             "gridcolor": "white",
             "linecolor": "white",
             "minorgridcolor": "white",
             "startlinecolor": "#2a3f5f"
            },
            "type": "carpet"
           }
          ],
          "choropleth": [
           {
            "colorbar": {
             "outlinewidth": 0,
             "ticks": ""
            },
            "type": "choropleth"
           }
          ],
          "contour": [
           {
            "colorbar": {
             "outlinewidth": 0,
             "ticks": ""
            },
            "colorscale": [
             [
              0,
              "#0d0887"
             ],
             [
              0.1111111111111111,
              "#46039f"
             ],
             [
              0.2222222222222222,
              "#7201a8"
             ],
             [
              0.3333333333333333,
              "#9c179e"
             ],
             [
              0.4444444444444444,
              "#bd3786"
             ],
             [
              0.5555555555555556,
              "#d8576b"
             ],
             [
              0.6666666666666666,
              "#ed7953"
             ],
             [
              0.7777777777777778,
              "#fb9f3a"
             ],
             [
              0.8888888888888888,
              "#fdca26"
             ],
             [
              1,
              "#f0f921"
             ]
            ],
            "type": "contour"
           }
          ],
          "contourcarpet": [
           {
            "colorbar": {
             "outlinewidth": 0,
             "ticks": ""
            },
            "type": "contourcarpet"
           }
          ],
          "heatmap": [
           {
            "colorbar": {
             "outlinewidth": 0,
             "ticks": ""
            },
            "colorscale": [
             [
              0,
              "#0d0887"
             ],
             [
              0.1111111111111111,
              "#46039f"
             ],
             [
              0.2222222222222222,
              "#7201a8"
             ],
             [
              0.3333333333333333,
              "#9c179e"
             ],
             [
              0.4444444444444444,
              "#bd3786"
             ],
             [
              0.5555555555555556,
              "#d8576b"
             ],
             [
              0.6666666666666666,
              "#ed7953"
             ],
             [
              0.7777777777777778,
              "#fb9f3a"
             ],
             [
              0.8888888888888888,
              "#fdca26"
             ],
             [
              1,
              "#f0f921"
             ]
            ],
            "type": "heatmap"
           }
          ],
          "heatmapgl": [
           {
            "colorbar": {
             "outlinewidth": 0,
             "ticks": ""
            },
            "colorscale": [
             [
              0,
              "#0d0887"
             ],
             [
              0.1111111111111111,
              "#46039f"
             ],
             [
              0.2222222222222222,
              "#7201a8"
             ],
             [
              0.3333333333333333,
              "#9c179e"
             ],
             [
              0.4444444444444444,
              "#bd3786"
             ],
             [
              0.5555555555555556,
              "#d8576b"
             ],
             [
              0.6666666666666666,
              "#ed7953"
             ],
             [
              0.7777777777777778,
              "#fb9f3a"
             ],
             [
              0.8888888888888888,
              "#fdca26"
             ],
             [
              1,
              "#f0f921"
             ]
            ],
            "type": "heatmapgl"
           }
          ],
          "histogram": [
           {
            "marker": {
             "pattern": {
              "fillmode": "overlay",
              "size": 10,
              "solidity": 0.2
             }
            },
            "type": "histogram"
           }
          ],
          "histogram2d": [
           {
            "colorbar": {
             "outlinewidth": 0,
             "ticks": ""
            },
            "colorscale": [
             [
              0,
              "#0d0887"
             ],
             [
              0.1111111111111111,
              "#46039f"
             ],
             [
              0.2222222222222222,
              "#7201a8"
             ],
             [
              0.3333333333333333,
              "#9c179e"
             ],
             [
              0.4444444444444444,
              "#bd3786"
             ],
             [
              0.5555555555555556,
              "#d8576b"
             ],
             [
              0.6666666666666666,
              "#ed7953"
             ],
             [
              0.7777777777777778,
              "#fb9f3a"
             ],
             [
              0.8888888888888888,
              "#fdca26"
             ],
             [
              1,
              "#f0f921"
             ]
            ],
            "type": "histogram2d"
           }
          ],
          "histogram2dcontour": [
           {
            "colorbar": {
             "outlinewidth": 0,
             "ticks": ""
            },
            "colorscale": [
             [
              0,
              "#0d0887"
             ],
             [
              0.1111111111111111,
              "#46039f"
             ],
             [
              0.2222222222222222,
              "#7201a8"
             ],
             [
              0.3333333333333333,
              "#9c179e"
             ],
             [
              0.4444444444444444,
              "#bd3786"
             ],
             [
              0.5555555555555556,
              "#d8576b"
             ],
             [
              0.6666666666666666,
              "#ed7953"
             ],
             [
              0.7777777777777778,
              "#fb9f3a"
             ],
             [
              0.8888888888888888,
              "#fdca26"
             ],
             [
              1,
              "#f0f921"
             ]
            ],
            "type": "histogram2dcontour"
           }
          ],
          "mesh3d": [
           {
            "colorbar": {
             "outlinewidth": 0,
             "ticks": ""
            },
            "type": "mesh3d"
           }
          ],
          "parcoords": [
           {
            "line": {
             "colorbar": {
              "outlinewidth": 0,
              "ticks": ""
             }
            },
            "type": "parcoords"
           }
          ],
          "pie": [
           {
            "automargin": true,
            "type": "pie"
           }
          ],
          "scatter": [
           {
            "marker": {
             "colorbar": {
              "outlinewidth": 0,
              "ticks": ""
             }
            },
            "type": "scatter"
           }
          ],
          "scatter3d": [
           {
            "line": {
             "colorbar": {
              "outlinewidth": 0,
              "ticks": ""
             }
            },
            "marker": {
             "colorbar": {
              "outlinewidth": 0,
              "ticks": ""
             }
            },
            "type": "scatter3d"
           }
          ],
          "scattercarpet": [
           {
            "marker": {
             "colorbar": {
              "outlinewidth": 0,
              "ticks": ""
             }
            },
            "type": "scattercarpet"
           }
          ],
          "scattergeo": [
           {
            "marker": {
             "colorbar": {
              "outlinewidth": 0,
              "ticks": ""
             }
            },
            "type": "scattergeo"
           }
          ],
          "scattergl": [
           {
            "marker": {
             "colorbar": {
              "outlinewidth": 0,
              "ticks": ""
             }
            },
            "type": "scattergl"
           }
          ],
          "scattermapbox": [
           {
            "marker": {
             "colorbar": {
              "outlinewidth": 0,
              "ticks": ""
             }
            },
            "type": "scattermapbox"
           }
          ],
          "scatterpolar": [
           {
            "marker": {
             "colorbar": {
              "outlinewidth": 0,
              "ticks": ""
             }
            },
            "type": "scatterpolar"
           }
          ],
          "scatterpolargl": [
           {
            "marker": {
             "colorbar": {
              "outlinewidth": 0,
              "ticks": ""
             }
            },
            "type": "scatterpolargl"
           }
          ],
          "scatterternary": [
           {
            "marker": {
             "colorbar": {
              "outlinewidth": 0,
              "ticks": ""
             }
            },
            "type": "scatterternary"
           }
          ],
          "surface": [
           {
            "colorbar": {
             "outlinewidth": 0,
             "ticks": ""
            },
            "colorscale": [
             [
              0,
              "#0d0887"
             ],
             [
              0.1111111111111111,
              "#46039f"
             ],
             [
              0.2222222222222222,
              "#7201a8"
             ],
             [
              0.3333333333333333,
              "#9c179e"
             ],
             [
              0.4444444444444444,
              "#bd3786"
             ],
             [
              0.5555555555555556,
              "#d8576b"
             ],
             [
              0.6666666666666666,
              "#ed7953"
             ],
             [
              0.7777777777777778,
              "#fb9f3a"
             ],
             [
              0.8888888888888888,
              "#fdca26"
             ],
             [
              1,
              "#f0f921"
             ]
            ],
            "type": "surface"
           }
          ],
          "table": [
           {
            "cells": {
             "fill": {
              "color": "#EBF0F8"
             },
             "line": {
              "color": "white"
             }
            },
            "header": {
             "fill": {
              "color": "#C8D4E3"
             },
             "line": {
              "color": "white"
             }
            },
            "type": "table"
           }
          ]
         },
         "layout": {
          "annotationdefaults": {
           "arrowcolor": "#2a3f5f",
           "arrowhead": 0,
           "arrowwidth": 1
          },
          "autotypenumbers": "strict",
          "coloraxis": {
           "colorbar": {
            "outlinewidth": 0,
            "ticks": ""
           }
          },
          "colorscale": {
           "diverging": [
            [
             0,
             "#8e0152"
            ],
            [
             0.1,
             "#c51b7d"
            ],
            [
             0.2,
             "#de77ae"
            ],
            [
             0.3,
             "#f1b6da"
            ],
            [
             0.4,
             "#fde0ef"
            ],
            [
             0.5,
             "#f7f7f7"
            ],
            [
             0.6,
             "#e6f5d0"
            ],
            [
             0.7,
             "#b8e186"
            ],
            [
             0.8,
             "#7fbc41"
            ],
            [
             0.9,
             "#4d9221"
            ],
            [
             1,
             "#276419"
            ]
           ],
           "sequential": [
            [
             0,
             "#0d0887"
            ],
            [
             0.1111111111111111,
             "#46039f"
            ],
            [
             0.2222222222222222,
             "#7201a8"
            ],
            [
             0.3333333333333333,
             "#9c179e"
            ],
            [
             0.4444444444444444,
             "#bd3786"
            ],
            [
             0.5555555555555556,
             "#d8576b"
            ],
            [
             0.6666666666666666,
             "#ed7953"
            ],
            [
             0.7777777777777778,
             "#fb9f3a"
            ],
            [
             0.8888888888888888,
             "#fdca26"
            ],
            [
             1,
             "#f0f921"
            ]
           ],
           "sequentialminus": [
            [
             0,
             "#0d0887"
            ],
            [
             0.1111111111111111,
             "#46039f"
            ],
            [
             0.2222222222222222,
             "#7201a8"
            ],
            [
             0.3333333333333333,
             "#9c179e"
            ],
            [
             0.4444444444444444,
             "#bd3786"
            ],
            [
             0.5555555555555556,
             "#d8576b"
            ],
            [
             0.6666666666666666,
             "#ed7953"
            ],
            [
             0.7777777777777778,
             "#fb9f3a"
            ],
            [
             0.8888888888888888,
             "#fdca26"
            ],
            [
             1,
             "#f0f921"
            ]
           ]
          },
          "colorway": [
           "#636efa",
           "#EF553B",
           "#00cc96",
           "#ab63fa",
           "#FFA15A",
           "#19d3f3",
           "#FF6692",
           "#B6E880",
           "#FF97FF",
           "#FECB52"
          ],
          "font": {
           "color": "#2a3f5f"
          },
          "geo": {
           "bgcolor": "white",
           "lakecolor": "white",
           "landcolor": "#E5ECF6",
           "showlakes": true,
           "showland": true,
           "subunitcolor": "white"
          },
          "hoverlabel": {
           "align": "left"
          },
          "hovermode": "closest",
          "mapbox": {
           "style": "light"
          },
          "paper_bgcolor": "white",
          "plot_bgcolor": "#E5ECF6",
          "polar": {
           "angularaxis": {
            "gridcolor": "white",
            "linecolor": "white",
            "ticks": ""
           },
           "bgcolor": "#E5ECF6",
           "radialaxis": {
            "gridcolor": "white",
            "linecolor": "white",
            "ticks": ""
           }
          },
          "scene": {
           "xaxis": {
            "backgroundcolor": "#E5ECF6",
            "gridcolor": "white",
            "gridwidth": 2,
            "linecolor": "white",
            "showbackground": true,
            "ticks": "",
            "zerolinecolor": "white"
           },
           "yaxis": {
            "backgroundcolor": "#E5ECF6",
            "gridcolor": "white",
            "gridwidth": 2,
            "linecolor": "white",
            "showbackground": true,
            "ticks": "",
            "zerolinecolor": "white"
           },
           "zaxis": {
            "backgroundcolor": "#E5ECF6",
            "gridcolor": "white",
            "gridwidth": 2,
            "linecolor": "white",
            "showbackground": true,
            "ticks": "",
            "zerolinecolor": "white"
           }
          },
          "shapedefaults": {
           "line": {
            "color": "#2a3f5f"
           }
          },
          "ternary": {
           "aaxis": {
            "gridcolor": "white",
            "linecolor": "white",
            "ticks": ""
           },
           "baxis": {
            "gridcolor": "white",
            "linecolor": "white",
            "ticks": ""
           },
           "bgcolor": "#E5ECF6",
           "caxis": {
            "gridcolor": "white",
            "linecolor": "white",
            "ticks": ""
           }
          },
          "title": {
           "x": 0.05
          },
          "xaxis": {
           "automargin": true,
           "gridcolor": "white",
           "linecolor": "white",
           "ticks": "",
           "title": {
            "standoff": 15
           },
           "zerolinecolor": "white",
           "zerolinewidth": 2
          },
          "yaxis": {
           "automargin": true,
           "gridcolor": "white",
           "linecolor": "white",
           "ticks": "",
           "title": {
            "standoff": 15
           },
           "zerolinecolor": "white",
           "zerolinewidth": 2
          }
         }
        },
        "xaxis": {
         "anchor": "y",
         "domain": [
          0,
          1
         ],
         "title": {
          "text": "variable"
         }
        },
        "yaxis": {
         "anchor": "x",
         "domain": [
          0,
          1
         ],
         "title": {
          "text": "value"
         }
        }
       }
      },
      "text/html": [
       "<div>                            <div id=\"58efc359-285f-4f0a-9d40-804b9e7836d4\" class=\"plotly-graph-div\" style=\"height:525px; width:100%;\"></div>            <script type=\"text/javascript\">                require([\"plotly\"], function(Plotly) {                    window.PLOTLYENV=window.PLOTLYENV || {};                                    if (document.getElementById(\"58efc359-285f-4f0a-9d40-804b9e7836d4\")) {                    Plotly.newPlot(                        \"58efc359-285f-4f0a-9d40-804b9e7836d4\",                        [{\"alignmentgroup\":\"True\",\"hovertemplate\":\"variable=%{x}<br>value=%{y}<extra></extra>\",\"legendgroup\":\"\",\"marker\":{\"color\":\"#636efa\"},\"name\":\"\",\"notched\":false,\"offsetgroup\":\"\",\"orientation\":\"v\",\"showlegend\":false,\"type\":\"box\",\"x\":[\"Finish times w/ EDF\",\"Finish times w/ EDF\",\"Finish times w/ EDF\",\"Finish times w/ EDF\",\"Finish times w/ EDF\",\"Finish times w/ EDF\",\"Finish times w/ EDF\",\"Finish times w/ EDF\",\"Finish times w/ EDF\",\"Finish times w/ EDF\",\"Finish times w/ EDF\",\"Finish times w/ EDF\",\"Finish times w/ EDF\",\"Finish times w/ EDF\",\"Finish times w/ EDF\",\"Finish times w/ EDF\",\"Finish times w/ EDF\",\"Finish times w/ EDF\",\"Finish times w/ EDF\",\"Finish times w/ EDF\",\"Finish times w/ EDF\",\"Finish times w/ EDF\",\"Finish times w/ EDF\",\"Finish times w/ EDF\",\"Finish times w/ EDF\",\"Finish times w/ EDF\",\"Finish times w/ EDF\",\"Finish times w/ EDF\",\"Finish times w/ EDF\",\"Finish times w/ EDF\",\"Finish times w/ EDF\",\"Finish times w/ EDF\",\"Finish times w/ EDF\",\"Finish times w/ EDF\",\"Finish times w/ EDF\",\"Finish times w/ EDF\",\"Finish times w/ EDF\",\"Finish times w/ EDF\",\"Finish times w/ EDF\",\"Finish times w/ EDF\",\"Finish times w/ EDF\",\"Finish times w/ EDF\",\"Finish times w/ EDF\",\"Finish times w/ EDF\",\"Finish times w/ EDF\",\"Finish times w/ EDF\",\"Finish times w/ EDF\",\"Finish times w/ EDF\",\"Finish times w/ EDF\",\"Finish times w/ EDF\",\"Finish times w/ EDF\",\"Finish times w/ EDF\",\"Finish times w/ EDF\",\"Finish times w/ EDF\",\"Finish times w/ EDF\",\"Finish times w/ EDF\",\"Finish times w/ EDF\",\"Finish times w/ EDF\",\"Finish times w/ EDF\",\"Finish times w/ EDF\",\"Finish times w/ EDF\",\"Finish times w/ EDF\",\"Finish times w/ EDF\",\"Finish times w/ EDF\",\"Finish times w/ EDF\",\"Finish times w/ EDF\",\"Finish times w/ EDF\",\"Finish times w/ EDF\",\"Finish times w/ EDF\",\"Finish times w/ EDF\",\"Finish times w/ EDF\",\"Finish times w/ EDF\",\"Finish times w/ EDF\",\"Finish times w/ EDF\",\"Finish times w/ EDF\",\"Finish times w/ EDF\",\"Finish times w/ EDF\",\"Finish times w/ EDF\",\"Finish times w/ EDF\",\"Finish times w/ EDF\",\"Finish times w/ EDF\",\"Finish times w/ EDF\",\"Finish times w/ EDF\",\"Finish times w/ EDF\",\"Finish times w/ EDF\",\"Finish times w/ EDF\",\"Finish times w/ EDF\",\"Finish times w/ EDF\",\"Finish times w/ EDF\",\"Finish times w/ EDF\",\"Finish times w/ EDF\",\"Finish times w/ EDF\",\"Finish times w/ EDF\",\"Finish times w/ EDF\",\"Finish times w/ EDF\",\"Finish times w/ EDF\",\"Finish times w/ EDF\",\"Finish times w/ EDF\",\"Finish times w/ EDF\",\"Finish times w/ EDF\",\"Finish times w/- EDF\",\"Finish times w/- EDF\",\"Finish times w/- EDF\",\"Finish times w/- EDF\",\"Finish times w/- EDF\",\"Finish times w/- EDF\",\"Finish times w/- EDF\",\"Finish times w/- EDF\",\"Finish times w/- EDF\",\"Finish times w/- EDF\",\"Finish times w/- EDF\",\"Finish times w/- EDF\",\"Finish times w/- EDF\",\"Finish times w/- EDF\",\"Finish times w/- EDF\",\"Finish times w/- EDF\",\"Finish times w/- EDF\",\"Finish times w/- EDF\",\"Finish times w/- EDF\",\"Finish times w/- EDF\",\"Finish times w/- EDF\",\"Finish times w/- EDF\",\"Finish times w/- EDF\",\"Finish times w/- EDF\",\"Finish times w/- EDF\",\"Finish times w/- EDF\",\"Finish times w/- EDF\",\"Finish times w/- EDF\",\"Finish times w/- EDF\",\"Finish times w/- EDF\",\"Finish times w/- EDF\",\"Finish times w/- EDF\",\"Finish times w/- EDF\",\"Finish times w/- EDF\",\"Finish times w/- EDF\",\"Finish times w/- EDF\",\"Finish times w/- EDF\",\"Finish times w/- EDF\",\"Finish times w/- EDF\",\"Finish times w/- EDF\",\"Finish times w/- EDF\",\"Finish times w/- EDF\",\"Finish times w/- EDF\",\"Finish times w/- EDF\",\"Finish times w/- EDF\",\"Finish times w/- EDF\",\"Finish times w/- EDF\",\"Finish times w/- EDF\",\"Finish times w/- EDF\",\"Finish times w/- EDF\",\"Finish times w/- EDF\",\"Finish times w/- EDF\",\"Finish times w/- EDF\",\"Finish times w/- EDF\",\"Finish times w/- EDF\",\"Finish times w/- EDF\",\"Finish times w/- EDF\",\"Finish times w/- EDF\",\"Finish times w/- EDF\",\"Finish times w/- EDF\",\"Finish times w/- EDF\",\"Finish times w/- EDF\",\"Finish times w/- EDF\",\"Finish times w/- EDF\",\"Finish times w/- EDF\",\"Finish times w/- EDF\",\"Finish times w/- EDF\",\"Finish times w/- EDF\",\"Finish times w/- EDF\",\"Finish times w/- EDF\",\"Finish times w/- EDF\",\"Finish times w/- EDF\",\"Finish times w/- EDF\",\"Finish times w/- EDF\",\"Finish times w/- EDF\",\"Finish times w/- EDF\",\"Finish times w/- EDF\",\"Finish times w/- EDF\",\"Finish times w/- EDF\",\"Finish times w/- EDF\",\"Finish times w/- EDF\",\"Finish times w/- EDF\",\"Finish times w/- EDF\",\"Finish times w/- EDF\",\"Finish times w/- EDF\",\"Finish times w/- EDF\",\"Finish times w/- EDF\",\"Finish times w/- EDF\",\"Finish times w/- EDF\",\"Finish times w/- EDF\",\"Finish times w/- EDF\",\"Finish times w/- EDF\",\"Finish times w/- EDF\",\"Finish times w/- EDF\",\"Finish times w/- EDF\",\"Finish times w/- EDF\",\"Finish times w/- EDF\",\"Finish times w/- EDF\",\"Finish times w/- EDF\",\"Finish times w/- EDF\"],\"x0\":\" \",\"xaxis\":\"x\",\"y\":[500151457,500070538,500034226,500068408,500150492,500075624,500081397,500067150,500107582,500124203,500153798,500188272,500059595,500084220,500122729,500127877,500144722,500118447,500132167,500120842,500110991,500111778,500158403,500109614,500075813,500093531,500146174,500105624,500161861,500065868,500117628,500086793,500148027,500069935,500358245,500067929,500114645,500172180,500068157,500025457,500315331,500091447,500161568,500062079,500075834,500093709,500096453,500056080,500130597,500079067,500077517,500117571,500153609,500088003,500172147,500160540,500041044,500087672,500092496,500162545,500117472,500079893,500097880,500312038,500090098,500068946,500032641,500059794,500110341,500064397,500118389,500149018,500121480,500106867,500122041,500119849,500062633,500145360,500058764,500394444,500033013,500467821,500079142,500093607,500133268,500150579,500142272,500034412,500069089,500061705,500173605,500140511,500139984,500141146,500138903,500082558,500072812,500078844,500203605,500070325,500658904,500580162,500790752,501375492,500550118,500600137,500609747,500739710,504866386,500613158,500617577,500613244,501036447,500354390,500574220,500569635,500620030,500593785,500610790,500639492,500600274,500136186,500571911,500580183,500578505,500610414,500566770,500617743,500298390,500576135,500539454,500656476,500604102,500557155,501006661,500577355,500594072,500266251,500629962,500626642,500356399,500564165,500604835,500589632,500565076,500572520,500644395,500158570,500564301,500576466,500661935,500611737,500615587,500657480,500591463,500566075,500225587,500295694,500638907,500802082,500656330,500716317,500465617,500584090,500619746,500585381,500563769,500254961,500554150,500646551,500628443,500629676,500368454,500559030,500473047,500209788,500119425,500289880,500591761,500613598,500691970,500583262,500566604,500558401,500697229,500629358,500604316,500643570,500565483,500562580,500622833,500764816,500634443,500696325,500941766,500648324,500621555,500623135,500584944,500607489],\"y0\":\" \",\"yaxis\":\"y\"}],                        {\"boxmode\":\"group\",\"legend\":{\"tracegroupgap\":0},\"margin\":{\"t\":60},\"template\":{\"data\":{\"bar\":[{\"error_x\":{\"color\":\"#2a3f5f\"},\"error_y\":{\"color\":\"#2a3f5f\"},\"marker\":{\"line\":{\"color\":\"#E5ECF6\",\"width\":0.5},\"pattern\":{\"fillmode\":\"overlay\",\"size\":10,\"solidity\":0.2}},\"type\":\"bar\"}],\"barpolar\":[{\"marker\":{\"line\":{\"color\":\"#E5ECF6\",\"width\":0.5},\"pattern\":{\"fillmode\":\"overlay\",\"size\":10,\"solidity\":0.2}},\"type\":\"barpolar\"}],\"carpet\":[{\"aaxis\":{\"endlinecolor\":\"#2a3f5f\",\"gridcolor\":\"white\",\"linecolor\":\"white\",\"minorgridcolor\":\"white\",\"startlinecolor\":\"#2a3f5f\"},\"baxis\":{\"endlinecolor\":\"#2a3f5f\",\"gridcolor\":\"white\",\"linecolor\":\"white\",\"minorgridcolor\":\"white\",\"startlinecolor\":\"#2a3f5f\"},\"type\":\"carpet\"}],\"choropleth\":[{\"colorbar\":{\"outlinewidth\":0,\"ticks\":\"\"},\"type\":\"choropleth\"}],\"contour\":[{\"colorbar\":{\"outlinewidth\":0,\"ticks\":\"\"},\"colorscale\":[[0.0,\"#0d0887\"],[0.1111111111111111,\"#46039f\"],[0.2222222222222222,\"#7201a8\"],[0.3333333333333333,\"#9c179e\"],[0.4444444444444444,\"#bd3786\"],[0.5555555555555556,\"#d8576b\"],[0.6666666666666666,\"#ed7953\"],[0.7777777777777778,\"#fb9f3a\"],[0.8888888888888888,\"#fdca26\"],[1.0,\"#f0f921\"]],\"type\":\"contour\"}],\"contourcarpet\":[{\"colorbar\":{\"outlinewidth\":0,\"ticks\":\"\"},\"type\":\"contourcarpet\"}],\"heatmap\":[{\"colorbar\":{\"outlinewidth\":0,\"ticks\":\"\"},\"colorscale\":[[0.0,\"#0d0887\"],[0.1111111111111111,\"#46039f\"],[0.2222222222222222,\"#7201a8\"],[0.3333333333333333,\"#9c179e\"],[0.4444444444444444,\"#bd3786\"],[0.5555555555555556,\"#d8576b\"],[0.6666666666666666,\"#ed7953\"],[0.7777777777777778,\"#fb9f3a\"],[0.8888888888888888,\"#fdca26\"],[1.0,\"#f0f921\"]],\"type\":\"heatmap\"}],\"heatmapgl\":[{\"colorbar\":{\"outlinewidth\":0,\"ticks\":\"\"},\"colorscale\":[[0.0,\"#0d0887\"],[0.1111111111111111,\"#46039f\"],[0.2222222222222222,\"#7201a8\"],[0.3333333333333333,\"#9c179e\"],[0.4444444444444444,\"#bd3786\"],[0.5555555555555556,\"#d8576b\"],[0.6666666666666666,\"#ed7953\"],[0.7777777777777778,\"#fb9f3a\"],[0.8888888888888888,\"#fdca26\"],[1.0,\"#f0f921\"]],\"type\":\"heatmapgl\"}],\"histogram\":[{\"marker\":{\"pattern\":{\"fillmode\":\"overlay\",\"size\":10,\"solidity\":0.2}},\"type\":\"histogram\"}],\"histogram2d\":[{\"colorbar\":{\"outlinewidth\":0,\"ticks\":\"\"},\"colorscale\":[[0.0,\"#0d0887\"],[0.1111111111111111,\"#46039f\"],[0.2222222222222222,\"#7201a8\"],[0.3333333333333333,\"#9c179e\"],[0.4444444444444444,\"#bd3786\"],[0.5555555555555556,\"#d8576b\"],[0.6666666666666666,\"#ed7953\"],[0.7777777777777778,\"#fb9f3a\"],[0.8888888888888888,\"#fdca26\"],[1.0,\"#f0f921\"]],\"type\":\"histogram2d\"}],\"histogram2dcontour\":[{\"colorbar\":{\"outlinewidth\":0,\"ticks\":\"\"},\"colorscale\":[[0.0,\"#0d0887\"],[0.1111111111111111,\"#46039f\"],[0.2222222222222222,\"#7201a8\"],[0.3333333333333333,\"#9c179e\"],[0.4444444444444444,\"#bd3786\"],[0.5555555555555556,\"#d8576b\"],[0.6666666666666666,\"#ed7953\"],[0.7777777777777778,\"#fb9f3a\"],[0.8888888888888888,\"#fdca26\"],[1.0,\"#f0f921\"]],\"type\":\"histogram2dcontour\"}],\"mesh3d\":[{\"colorbar\":{\"outlinewidth\":0,\"ticks\":\"\"},\"type\":\"mesh3d\"}],\"parcoords\":[{\"line\":{\"colorbar\":{\"outlinewidth\":0,\"ticks\":\"\"}},\"type\":\"parcoords\"}],\"pie\":[{\"automargin\":true,\"type\":\"pie\"}],\"scatter\":[{\"marker\":{\"colorbar\":{\"outlinewidth\":0,\"ticks\":\"\"}},\"type\":\"scatter\"}],\"scatter3d\":[{\"line\":{\"colorbar\":{\"outlinewidth\":0,\"ticks\":\"\"}},\"marker\":{\"colorbar\":{\"outlinewidth\":0,\"ticks\":\"\"}},\"type\":\"scatter3d\"}],\"scattercarpet\":[{\"marker\":{\"colorbar\":{\"outlinewidth\":0,\"ticks\":\"\"}},\"type\":\"scattercarpet\"}],\"scattergeo\":[{\"marker\":{\"colorbar\":{\"outlinewidth\":0,\"ticks\":\"\"}},\"type\":\"scattergeo\"}],\"scattergl\":[{\"marker\":{\"colorbar\":{\"outlinewidth\":0,\"ticks\":\"\"}},\"type\":\"scattergl\"}],\"scattermapbox\":[{\"marker\":{\"colorbar\":{\"outlinewidth\":0,\"ticks\":\"\"}},\"type\":\"scattermapbox\"}],\"scatterpolar\":[{\"marker\":{\"colorbar\":{\"outlinewidth\":0,\"ticks\":\"\"}},\"type\":\"scatterpolar\"}],\"scatterpolargl\":[{\"marker\":{\"colorbar\":{\"outlinewidth\":0,\"ticks\":\"\"}},\"type\":\"scatterpolargl\"}],\"scatterternary\":[{\"marker\":{\"colorbar\":{\"outlinewidth\":0,\"ticks\":\"\"}},\"type\":\"scatterternary\"}],\"surface\":[{\"colorbar\":{\"outlinewidth\":0,\"ticks\":\"\"},\"colorscale\":[[0.0,\"#0d0887\"],[0.1111111111111111,\"#46039f\"],[0.2222222222222222,\"#7201a8\"],[0.3333333333333333,\"#9c179e\"],[0.4444444444444444,\"#bd3786\"],[0.5555555555555556,\"#d8576b\"],[0.6666666666666666,\"#ed7953\"],[0.7777777777777778,\"#fb9f3a\"],[0.8888888888888888,\"#fdca26\"],[1.0,\"#f0f921\"]],\"type\":\"surface\"}],\"table\":[{\"cells\":{\"fill\":{\"color\":\"#EBF0F8\"},\"line\":{\"color\":\"white\"}},\"header\":{\"fill\":{\"color\":\"#C8D4E3\"},\"line\":{\"color\":\"white\"}},\"type\":\"table\"}]},\"layout\":{\"annotationdefaults\":{\"arrowcolor\":\"#2a3f5f\",\"arrowhead\":0,\"arrowwidth\":1},\"autotypenumbers\":\"strict\",\"coloraxis\":{\"colorbar\":{\"outlinewidth\":0,\"ticks\":\"\"}},\"colorscale\":{\"diverging\":[[0,\"#8e0152\"],[0.1,\"#c51b7d\"],[0.2,\"#de77ae\"],[0.3,\"#f1b6da\"],[0.4,\"#fde0ef\"],[0.5,\"#f7f7f7\"],[0.6,\"#e6f5d0\"],[0.7,\"#b8e186\"],[0.8,\"#7fbc41\"],[0.9,\"#4d9221\"],[1,\"#276419\"]],\"sequential\":[[0.0,\"#0d0887\"],[0.1111111111111111,\"#46039f\"],[0.2222222222222222,\"#7201a8\"],[0.3333333333333333,\"#9c179e\"],[0.4444444444444444,\"#bd3786\"],[0.5555555555555556,\"#d8576b\"],[0.6666666666666666,\"#ed7953\"],[0.7777777777777778,\"#fb9f3a\"],[0.8888888888888888,\"#fdca26\"],[1.0,\"#f0f921\"]],\"sequentialminus\":[[0.0,\"#0d0887\"],[0.1111111111111111,\"#46039f\"],[0.2222222222222222,\"#7201a8\"],[0.3333333333333333,\"#9c179e\"],[0.4444444444444444,\"#bd3786\"],[0.5555555555555556,\"#d8576b\"],[0.6666666666666666,\"#ed7953\"],[0.7777777777777778,\"#fb9f3a\"],[0.8888888888888888,\"#fdca26\"],[1.0,\"#f0f921\"]]},\"colorway\":[\"#636efa\",\"#EF553B\",\"#00cc96\",\"#ab63fa\",\"#FFA15A\",\"#19d3f3\",\"#FF6692\",\"#B6E880\",\"#FF97FF\",\"#FECB52\"],\"font\":{\"color\":\"#2a3f5f\"},\"geo\":{\"bgcolor\":\"white\",\"lakecolor\":\"white\",\"landcolor\":\"#E5ECF6\",\"showlakes\":true,\"showland\":true,\"subunitcolor\":\"white\"},\"hoverlabel\":{\"align\":\"left\"},\"hovermode\":\"closest\",\"mapbox\":{\"style\":\"light\"},\"paper_bgcolor\":\"white\",\"plot_bgcolor\":\"#E5ECF6\",\"polar\":{\"angularaxis\":{\"gridcolor\":\"white\",\"linecolor\":\"white\",\"ticks\":\"\"},\"bgcolor\":\"#E5ECF6\",\"radialaxis\":{\"gridcolor\":\"white\",\"linecolor\":\"white\",\"ticks\":\"\"}},\"scene\":{\"xaxis\":{\"backgroundcolor\":\"#E5ECF6\",\"gridcolor\":\"white\",\"gridwidth\":2,\"linecolor\":\"white\",\"showbackground\":true,\"ticks\":\"\",\"zerolinecolor\":\"white\"},\"yaxis\":{\"backgroundcolor\":\"#E5ECF6\",\"gridcolor\":\"white\",\"gridwidth\":2,\"linecolor\":\"white\",\"showbackground\":true,\"ticks\":\"\",\"zerolinecolor\":\"white\"},\"zaxis\":{\"backgroundcolor\":\"#E5ECF6\",\"gridcolor\":\"white\",\"gridwidth\":2,\"linecolor\":\"white\",\"showbackground\":true,\"ticks\":\"\",\"zerolinecolor\":\"white\"}},\"shapedefaults\":{\"line\":{\"color\":\"#2a3f5f\"}},\"ternary\":{\"aaxis\":{\"gridcolor\":\"white\",\"linecolor\":\"white\",\"ticks\":\"\"},\"baxis\":{\"gridcolor\":\"white\",\"linecolor\":\"white\",\"ticks\":\"\"},\"bgcolor\":\"#E5ECF6\",\"caxis\":{\"gridcolor\":\"white\",\"linecolor\":\"white\",\"ticks\":\"\"}},\"title\":{\"x\":0.05},\"xaxis\":{\"automargin\":true,\"gridcolor\":\"white\",\"linecolor\":\"white\",\"ticks\":\"\",\"title\":{\"standoff\":15},\"zerolinecolor\":\"white\",\"zerolinewidth\":2},\"yaxis\":{\"automargin\":true,\"gridcolor\":\"white\",\"linecolor\":\"white\",\"ticks\":\"\",\"title\":{\"standoff\":15},\"zerolinecolor\":\"white\",\"zerolinewidth\":2}}},\"xaxis\":{\"anchor\":\"y\",\"domain\":[0.0,1.0],\"title\":{\"text\":\"variable\"}},\"yaxis\":{\"anchor\":\"x\",\"domain\":[0.0,1.0],\"title\":{\"text\":\"value\"}}},                        {\"responsive\": true}                    ).then(function(){\n",
       "                            \n",
       "var gd = document.getElementById('58efc359-285f-4f0a-9d40-804b9e7836d4');\n",
       "var x = new MutationObserver(function (mutations, observer) {{\n",
       "        var display = window.getComputedStyle(gd).display;\n",
       "        if (!display || display === 'none') {{\n",
       "            console.log([gd, 'removed!']);\n",
       "            Plotly.purge(gd);\n",
       "            observer.disconnect();\n",
       "        }}\n",
       "}});\n",
       "\n",
       "// Listen for the removal of the full notebook cells\n",
       "var notebookContainer = gd.closest('#notebook-container');\n",
       "if (notebookContainer) {{\n",
       "    x.observe(notebookContainer, {childList: true});\n",
       "}}\n",
       "\n",
       "// Listen for the clearing of the current output cell\n",
       "var outputEl = gd.closest('.output');\n",
       "if (outputEl) {{\n",
       "    x.observe(outputEl, {childList: true});\n",
       "}}\n",
       "\n",
       "                        })                };                });            </script>        </div>"
      ]
     },
     "metadata": {},
     "output_type": "display_data"
    }
   ],
   "source": [
    "pd.options.plotting.backend = \"plotly\"\n",
    "np.random.seed(1)\n",
    "\n",
    "fig = finish_times.plot.box()\n",
    "fig.show()"
   ]
  },
  {
   "cell_type": "code",
   "execution_count": null,
   "id": "895a3f5a",
   "metadata": {},
   "outputs": [],
   "source": []
  }
 ],
 "metadata": {
  "kernelspec": {
   "display_name": "Python 3 (ipykernel)",
   "language": "python",
   "name": "python3"
  },
  "language_info": {
   "codemirror_mode": {
    "name": "ipython",
    "version": 3
   },
   "file_extension": ".py",
   "mimetype": "text/x-python",
   "name": "python",
   "nbconvert_exporter": "python",
   "pygments_lexer": "ipython3",
   "version": "3.8.10"
  }
 },
 "nbformat": 4,
 "nbformat_minor": 5
}
