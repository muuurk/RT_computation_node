{
 "cells": [
  {
   "cell_type": "code",
   "execution_count": 7,
   "id": "6d5d0d9f",
   "metadata": {},
   "outputs": [],
   "source": [
    "import pandas as pd\n",
    "import seaborn as sns\n",
    "import matplotlib.pyplot as plt\n",
    "import pandas as pd\n",
    "import numpy as np\n",
    "import plotly.express as px"
   ]
  },
  {
   "cell_type": "code",
   "execution_count": 8,
   "id": "664cdce9",
   "metadata": {},
   "outputs": [],
   "source": [
    "EDF_APP_OUTPUT_FILE = \"/home/muuurk/Projects/RT_computation_node/python_app_edf.txt\"\n",
    "DEFAULT_SCHED_APP_OUTPUT_FILE = \"/home/muuurk/Projects/RT_computation_node/python_app_default_scheduler.txt\"\n",
    "EDF_APP_CPUSTRESS_OUTPUT_FILE = \"/home/muuurk/Projects/RT_computation_node/python_app_edf_w_cpustress.txt\"\n",
    "DEFAULT_SCHED_APP_CPUSTRESS_OUTPUT_FILE = \"/home/muuurk/Projects/RT_computation_node/python_app_default_scheduler_w_cpustress.txt\""
   ]
  },
  {
   "cell_type": "code",
   "execution_count": 9,
   "id": "0d780282",
   "metadata": {},
   "outputs": [
    {
     "name": "stdout",
     "output_type": "stream",
     "text": [
      "     finish times CPU stress Scheduler\n",
      "0       500151457      False       EDF\n",
      "1       500070538      False       EDF\n",
      "2       500034226      False       EDF\n",
      "3       500068408      False       EDF\n",
      "4       500150492      False       EDF\n",
      "..            ...        ...       ...\n",
      "395     500361936       True   Default\n",
      "396     500319441       True   Default\n",
      "397     500534376       True   Default\n",
      "398     500107392       True   Default\n",
      "399     500318760       True   Default\n",
      "\n",
      "[400 rows x 3 columns]\n"
     ]
    }
   ],
   "source": [
    "df1 = pd.read_csv(EDF_APP_OUTPUT_FILE, sep=\" \", header=None, names=[\"finish times\"])\n",
    "df1['CPU stress'] = \"False\"\n",
    "df1['Scheduler'] = \"EDF\"\n",
    "\n",
    "df2 = pd.read_csv(DEFAULT_SCHED_APP_OUTPUT_FILE, sep=\" \", header=None, names=[\"finish times\"])\n",
    "df2['CPU stress'] = \"False\"\n",
    "df2['Scheduler'] = \"Default\"\n",
    "\n",
    "df3 = pd.read_csv(EDF_APP_CPUSTRESS_OUTPUT_FILE, sep=\" \", header=None, names=[\"finish times\"])\n",
    "df3['CPU stress'] = \"True\"\n",
    "df3['Scheduler'] = \"EDF\"\n",
    "\n",
    "df4 = pd.read_csv(DEFAULT_SCHED_APP_CPUSTRESS_OUTPUT_FILE, sep=\" \", header=None, names=[\"finish times\"])\n",
    "df4['CPU stress'] = \"True\"\n",
    "df4['Scheduler'] = \"Default\"\n",
    "\n",
    "#finish_times = pd.concat([df1, df2, df3, df4], axis=1)\n",
    "#finish_times = finish_times.set_axis(['Finish times w/ EDF', 'Finish times w/- EDF'], axis=1, inplace=False)\n",
    "\n",
    "\n",
    "finish_times = pd.concat([df1, df2, df3, df4], ignore_index=True)\n",
    "#finish_times = pd.concat([edf_finish_times, default_finish_times], axis=1)\n",
    "print(finish_times)\n"
   ]
  },
  {
   "cell_type": "code",
   "execution_count": 10,
   "id": "ae4ec7ea",
   "metadata": {},
   "outputs": [
    {
     "data": {
      "image/png": "[encoded data removed]",
      "text/plain": [
       "<Figure size 432x288 with 1 Axes>"
      ]
     },
     "metadata": {
      "needs_background": "light"
     },
     "output_type": "display_data"
    }
   ],
   "source": [
    "sns.violinplot( y=finish_times[\"finish times\"], x=finish_times[\"Scheduler\"], hue=finish_times[\"CPU stress\"]);\n",
    "plt.show()"
   ]
  },
  {
   "cell_type": "code",
   "execution_count": 11,
   "id": "877bbd48",
   "metadata": {
    "scrolled": false
   },
   "outputs": [],
   "source": [
    "#row_count = finish_times.shape[0]\n",
    "#for i in range(row_count-1):\n",
    "#    finish_times.at[i, 'finish times'] = finish_times.at[i, 'finish times'] - 500000000\n",
    "#print(finish_times)"
   ]
  },
  {
   "cell_type": "code",
   "execution_count": 12,
   "id": "11724f3e",
   "metadata": {},
   "outputs": [
    {
     "data": {
      "application/vnd.plotly.v1+json": {
       "config": {
        "plotlyServerURL": "https://plot.ly"
       },
       "data": [
        {
         "alignmentgroup": "True",
         "boxpoints": "all",
         "hovertemplate": "CPU stress=False<br>Scheduler=%{x}<br>finish times=%{y}<extra></extra>",
         "legendgroup": "False",
         "marker": {
          "color": "#636efa"
         },
         "name": "False",
         "notched": false,
         "offsetgroup": "False",
         "orientation": "v",
         "showlegend": true,
         "type": "box",
         "x": [
          "EDF",
          "EDF",
          "EDF",
          "EDF",
          "EDF",
          "EDF",
          "EDF",
          "EDF",
          "EDF",
          "EDF",
          "EDF",
          "EDF",
          "EDF",
          "EDF",
          "EDF",
          "EDF",
          "EDF",
          "EDF",
          "EDF",
          "EDF",
          "EDF",
          "EDF",
          "EDF",
          "EDF",
          "EDF",
          "EDF",
          "EDF",
          "EDF",
          "EDF",
          "EDF",
          "EDF",
          "EDF",
          "EDF",
          "EDF",
          "EDF",
          "EDF",
          "EDF",
          "EDF",
          "EDF",
          "EDF",
          "EDF",
          "EDF",
          "EDF",
          "EDF",
          "EDF",
          "EDF",
          "EDF",
          "EDF",
          "EDF",
          "EDF",
          "EDF",
          "EDF",
          "EDF",
          "EDF",
          "EDF",
          "EDF",
          "EDF",
          "EDF",
          "EDF",
          "EDF",
          "EDF",
          "EDF",
          "EDF",
          "EDF",
          "EDF",
          "EDF",
          "EDF",
          "EDF",
          "EDF",
          "EDF",
          "EDF",
          "EDF",
          "EDF",
          "EDF",
          "EDF",
          "EDF",
          "EDF",
          "EDF",
          "EDF",
          "EDF",
          "EDF",
          "EDF",
          "EDF",
          "EDF",
          "EDF",
          "EDF",
          "EDF",
          "EDF",
          "EDF",
          "EDF",
          "EDF",
          "EDF",
          "EDF",
          "EDF",
          "EDF",
          "EDF",
          "EDF",
          "EDF",
          "EDF",
          "EDF",
          "Default",
          "Default",
          "Default",
          "Default",
          "Default",
          "Default",
          "Default",
          "Default",
          "Default",
          "Default",
          "Default",
          "Default",
          "Default",
          "Default",
          "Default",
          "Default",
          "Default",
          "Default",
          "Default",
          "Default",
          "Default",
          "Default",
          "Default",
          "Default",
          "Default",
          "Default",
          "Default",
          "Default",
          "Default",
          "Default",
          "Default",
          "Default",
          "Default",
          "Default",
          "Default",
          "Default",
          "Default",
          "Default",
          "Default",
          "Default",
          "Default",
          "Default",
          "Default",
          "Default",
          "Default",
          "Default",
          "Default",
          "Default",
          "Default",
          "Default",
          "Default",
          "Default",
          "Default",
          "Default",
          "Default",
          "Default",
          "Default",
          "Default",
          "Default",
          "Default",
          "Default",
          "Default",
          "Default",
          "Default",
          "Default",
          "Default",
          "Default",
          "Default",
          "Default",
          "Default",
          "Default",
          "Default",
          "Default",
          "Default",
          "Default",
          "Default",
          "Default",
          "Default",
          "Default",
          "Default",
          "Default",
          "Default",
          "Default",
          "Default",
          "Default",
          "Default",
          "Default",
          "Default",
          "Default",
          "Default",
          "Default",
          "Default",
          "Default",
          "Default",
          "Default",
          "Default",
          "Default",
          "Default",
          "Default",
          "Default"
         ],
         "x0": " ",
         "xaxis": "x",
         "y": [
          500151457,
          500070538,
          500034226,
          500068408,
          500150492,
          500075624,
          500081397,
          500067150,
          500107582,
          500124203,
          500153798,
          500188272,
          500059595,
          500084220,
          500122729,
          500127877,
          500144722,
          500118447,
          500132167,
          500120842,
          500110991,
          500111778,
          500158403,
          500109614,
          500075813,
          500093531,
          500146174,
          500105624,
          500161861,
          500065868,
          500117628,
          500086793,
          500148027,
          500069935,
          500358245,
          500067929,
          500114645,
          500172180,
          500068157,
          500025457,
          500315331,
          500091447,
          500161568,
          500062079,
          500075834,
          500093709,
          500096453,
          500056080,
          500130597,
          500079067,
          500077517,
          500117571,
          500153609,
          500088003,
          500172147,
          500160540,
          500041044,
          500087672,
          500092496,
          500162545,
          500117472,
          500079893,
          500097880,
          500312038,
          500090098,
          500068946,
          500032641,
          500059794,
          500110341,
          500064397,
          500118389,
          500149018,
          500121480,
          500106867,
          500122041,
          500119849,
          500062633,
          500145360,
          500058764,
          500394444,
          500033013,
          500467821,
          500079142,
          500093607,
          500133268,
          500150579,
          500142272,
          500034412,
          500069089,
          500061705,
          500173605,
          500140511,
          500139984,
          500141146,
          500138903,
          500082558,
          500072812,
          500078844,
          500203605,
          500070325,
          500658904,
          500580162,
          500790752,
          501375492,
          500550118,
          500600137,
          500609747,
          500739710,
          504866386,
          500613158,
          500617577,
          500613244,
          501036447,
          500354390,
          500574220,
          500569635,
          500620030,
          500593785,
          500610790,
          500639492,
          500600274,
          500136186,
          500571911,
          500580183,
          500578505,
          500610414,
          500566770,
          500617743,
          500298390,
          500576135,
          500539454,
          500656476,
          500604102,
          500557155,
          501006661,
          500577355,
          500594072,
          500266251,
          500629962,
          500626642,
          500356399,
          500564165,
          500604835,
          500589632,
          500565076,
          500572520,
          500644395,
          500158570,
          500564301,
          500576466,
          500661935,
          500611737,
          500615587,
          500657480,
          500591463,
          500566075,
          500225587,
          500295694,
          500638907,
          500802082,
          500656330,
          500716317,
          500465617,
          500584090,
          500619746,
          500585381,
          500563769,
          500254961,
          500554150,
          500646551,
          500628443,
          500629676,
          500368454,
          500559030,
          500473047,
          500209788,
          500119425,
          500289880,
          500591761,
          500613598,
          500691970,
          500583262,
          500566604,
          500558401,
          500697229,
          500629358,
          500604316,
          500643570,
          500565483,
          500562580,
          500622833,
          500764816,
          500634443,
          500696325,
          500941766,
          500648324,
          500621555,
          500623135,
          500584944,
          500607489
         ],
         "y0": " ",
         "yaxis": "y"
        },
        {
         "alignmentgroup": "True",
         "boxpoints": "all",
         "hovertemplate": "CPU stress=True<br>Scheduler=%{x}<br>finish times=%{y}<extra></extra>",
         "legendgroup": "True",
         "marker": {
          "color": "#EF553B"
         },
         "name": "True",
         "notched": false,
         "offsetgroup": "True",
         "orientation": "v",
         "showlegend": true,
         "type": "box",
         "x": [
          "EDF",
          "EDF",
          "EDF",
          "EDF",
          "EDF",
          "EDF",
          "EDF",
          "EDF",
          "EDF",
          "EDF",
          "EDF",
          "EDF",
          "EDF",
          "EDF",
          "EDF",
          "EDF",
          "EDF",
          "EDF",
          "EDF",
          "EDF",
          "EDF",
          "EDF",
          "EDF",
          "EDF",
          "EDF",
          "EDF",
          "EDF",
          "EDF",
          "EDF",
          "EDF",
          "EDF",
          "EDF",
          "EDF",
          "EDF",
          "EDF",
          "EDF",
          "EDF",
          "EDF",
          "EDF",
          "EDF",
          "EDF",
          "EDF",
          "EDF",
          "EDF",
          "EDF",
          "EDF",
          "EDF",
          "EDF",
          "EDF",
          "EDF",
          "EDF",
          "EDF",
          "EDF",
          "EDF",
          "EDF",
          "EDF",
          "EDF",
          "EDF",
          "EDF",
          "EDF",
          "EDF",
          "EDF",
          "EDF",
          "EDF",
          "EDF",
          "EDF",
          "EDF",
          "EDF",
          "EDF",
          "EDF",
          "EDF",
          "EDF",
          "EDF",
          "EDF",
          "EDF",
          "EDF",
          "EDF",
          "EDF",
          "EDF",
          "EDF",
          "EDF",
          "EDF",
          "EDF",
          "EDF",
          "EDF",
          "EDF",
          "EDF",
          "EDF",
          "EDF",
          "EDF",
          "EDF",
          "EDF",
          "EDF",
          "EDF",
          "EDF",
          "EDF",
          "EDF",
          "EDF",
          "EDF",
          "EDF",
          "Default",
          "Default",
          "Default",
          "Default",
          "Default",
          "Default",
          "Default",
          "Default",
          "Default",
          "Default",
          "Default",
          "Default",
          "Default",
          "Default",
          "Default",
          "Default",
          "Default",
          "Default",
          "Default",
          "Default",
          "Default",
          "Default",
          "Default",
          "Default",
          "Default",
          "Default",
          "Default",
          "Default",
          "Default",
          "Default",
          "Default",
          "Default",
          "Default",
          "Default",
          "Default",
          "Default",
          "Default",
          "Default",
          "Default",
          "Default",
          "Default",
          "Default",
          "Default",
          "Default",
          "Default",
          "Default",
          "Default",
          "Default",
          "Default",
          "Default",
          "Default",
          "Default",
          "Default",
          "Default",
          "Default",
          "Default",
          "Default",
          "Default",
          "Default",
          "Default",
          "Default",
          "Default",
          "Default",
          "Default",
          "Default",
          "Default",
          "Default",
          "Default",
          "Default",
          "Default",
          "Default",
          "Default",
          "Default",
          "Default",
          "Default",
          "Default",
          "Default",
          "Default",
          "Default",
          "Default",
          "Default",
          "Default",
          "Default",
          "Default",
          "Default",
          "Default",
          "Default",
          "Default",
          "Default",
          "Default",
          "Default",
          "Default",
          "Default",
          "Default",
          "Default",
          "Default",
          "Default",
          "Default",
          "Default",
          "Default"
         ],
         "x0": " ",
         "xaxis": "x",
         "y": [
          500019838,
          500021337,
          500020238,
          500021476,
          500019934,
          500018207,
          500018337,
          500020498,
          500018936,
          500038088,
          500023388,
          500020740,
          500018589,
          500020280,
          500018026,
          500018615,
          500020121,
          500024126,
          500018037,
          500020293,
          500018858,
          500019213,
          500018817,
          500021610,
          500021243,
          500025497,
          500036367,
          500046293,
          500028268,
          500021306,
          500018378,
          500020546,
          500020209,
          500018538,
          500018938,
          500020729,
          500021331,
          500021684,
          500020729,
          500020425,
          500019319,
          500019379,
          500019405,
          500021370,
          500023087,
          500020522,
          500020692,
          500020465,
          500022180,
          500019602,
          500021050,
          500019949,
          500027881,
          500018957,
          500019028,
          500021715,
          500020388,
          500017888,
          500019697,
          500018963,
          500020030,
          500020353,
          500021358,
          500021977,
          500020912,
          500021187,
          500017908,
          500020355,
          500021031,
          500019930,
          500020785,
          500020933,
          500019105,
          500020128,
          500021654,
          500020803,
          500020639,
          500021327,
          500017409,
          500020443,
          500020492,
          500019726,
          500021359,
          500020963,
          500017927,
          500020926,
          500020497,
          500020307,
          500020188,
          500020981,
          500020173,
          500029402,
          500018362,
          500017371,
          500019042,
          500021088,
          500091491,
          500029306,
          500020642,
          500018738,
          500524128,
          500336691,
          500521191,
          500519821,
          500425965,
          500292711,
          500298576,
          500310132,
          500296055,
          500296786,
          500317029,
          500251036,
          500527418,
          500521006,
          500518512,
          500518372,
          500519579,
          500517900,
          500519496,
          500255401,
          500520130,
          500519432,
          500528543,
          500519492,
          500517764,
          500517537,
          500518056,
          500251463,
          500517215,
          500517177,
          500517902,
          500517843,
          500519250,
          500518964,
          500525959,
          500256431,
          500417084,
          500055414,
          500050606,
          500052172,
          500060063,
          500049654,
          500055239,
          500050839,
          500052368,
          500054958,
          500051098,
          500053653,
          500049401,
          500060047,
          500048154,
          500050951,
          500052781,
          500050209,
          500050018,
          500052848,
          500069909,
          500516661,
          500519466,
          500517580,
          500519627,
          500129539,
          500519131,
          500519656,
          500520772,
          500519962,
          500516678,
          500414379,
          500519159,
          500377586,
          500517458,
          500518425,
          500517680,
          500522599,
          500522068,
          500942006,
          501279874,
          500521258,
          500516753,
          500520278,
          500520735,
          500518458,
          500408382,
          500518994,
          500517796,
          500540715,
          500541916,
          500525077,
          500420846,
          500526264,
          500297903,
          500524356,
          500415578,
          500329395,
          500317437,
          500361936,
          500319441,
          500534376,
          500107392,
          500318760
         ],
         "y0": " ",
         "yaxis": "y"
        }
       ],
       "layout": {
        "boxmode": "group",
        "legend": {
         "title": {
          "text": "CPU stress"
         },
         "tracegroupgap": 0
        },
        "margin": {
         "t": 60
        },
        "template": {
         "data": {
          "bar": [
           {
            "error_x": {
             "color": "#2a3f5f"
            },
            "error_y": {
             "color": "#2a3f5f"
            },
            "marker": {
             "line": {
              "color": "#E5ECF6",
              "width": 0.5
             },
             "pattern": {
              "fillmode": "overlay",
              "size": 10,
              "solidity": 0.2
             }
            },
            "type": "bar"
           }
          ],
          "barpolar": [
           {
            "marker": {
             "line": {
              "color": "#E5ECF6",
              "width": 0.5
             },
             "pattern": {
              "fillmode": "overlay",
              "size": 10,
              "solidity": 0.2
             }
            },
            "type": "barpolar"
           }
          ],
          "carpet": [
           {
            "aaxis": {
             "endlinecolor": "#2a3f5f",
             "gridcolor": "white",
             "linecolor": "white",
             "minorgridcolor": "white",
             "startlinecolor": "#2a3f5f"
            },
            "baxis": {
             "endlinecolor": "#2a3f5f",
             "gridcolor": "white",
             "linecolor": "white",
             "minorgridcolor": "white",
             "startlinecolor": "#2a3f5f"
            },
            "type": "carpet"
           }
          ],
          "choropleth": [
           {
            "colorbar": {
             "outlinewidth": 0,
             "ticks": ""
            },
            "type": "choropleth"
           }
          ],
          "contour": [
           {
            "colorbar": {
             "outlinewidth": 0,
             "ticks": ""
            },
            "colorscale": [
             [
              0,
              "#0d0887"
             ],
             [
              0.1111111111111111,
              "#46039f"
             ],
             [
              0.2222222222222222,
              "#7201a8"
             ],
             [
              0.3333333333333333,
              "#9c179e"
             ],
             [
              0.4444444444444444,
              "#bd3786"
             ],
             [
              0.5555555555555556,
              "#d8576b"
             ],
             [
              0.6666666666666666,
              "#ed7953"
             ],
             [
              0.7777777777777778,
              "#fb9f3a"
             ],
             [
              0.8888888888888888,
              "#fdca26"
             ],
             [
              1,
              "#f0f921"
             ]
            ],
            "type": "contour"
           }
          ],
          "contourcarpet": [
           {
            "colorbar": {
             "outlinewidth": 0,
             "ticks": ""
            },
            "type": "contourcarpet"
           }
          ],
          "heatmap": [
           {
            "colorbar": {
             "outlinewidth": 0,
             "ticks": ""
            },
            "colorscale": [
             [
              0,
              "#0d0887"
             ],
             [
              0.1111111111111111,
              "#46039f"
             ],
             [
              0.2222222222222222,
              "#7201a8"
             ],
             [
              0.3333333333333333,
              "#9c179e"
             ],
             [
              0.4444444444444444,
              "#bd3786"
             ],
             [
              0.5555555555555556,
              "#d8576b"
             ],
             [
              0.6666666666666666,
              "#ed7953"
             ],
             [
              0.7777777777777778,
              "#fb9f3a"
             ],
             [
              0.8888888888888888,
              "#fdca26"
             ],
             [
              1,
              "#f0f921"
             ]
            ],
            "type": "heatmap"
           }
          ],
          "heatmapgl": [
           {
            "colorbar": {
             "outlinewidth": 0,
             "ticks": ""
            },
            "colorscale": [
             [
              0,
              "#0d0887"
             ],
             [
              0.1111111111111111,
              "#46039f"
             ],
             [
              0.2222222222222222,
              "#7201a8"
             ],
             [
              0.3333333333333333,
              "#9c179e"
             ],
             [
              0.4444444444444444,
              "#bd3786"
             ],
             [
              0.5555555555555556,
              "#d8576b"
             ],
             [
              0.6666666666666666,
              "#ed7953"
             ],
             [
              0.7777777777777778,
              "#fb9f3a"
             ],
             [
              0.8888888888888888,
              "#fdca26"
             ],
             [
              1,
              "#f0f921"
             ]
            ],
            "type": "heatmapgl"
           }
          ],
          "histogram": [
           {
            "marker": {
             "pattern": {
              "fillmode": "overlay",
              "size": 10,
              "solidity": 0.2
             }
            },
            "type": "histogram"
           }
          ],
          "histogram2d": [
           {
            "colorbar": {
             "outlinewidth": 0,
             "ticks": ""
            },
            "colorscale": [
             [
              0,
              "#0d0887"
             ],
             [
              0.1111111111111111,
              "#46039f"
             ],
             [
              0.2222222222222222,
              "#7201a8"
             ],
             [
              0.3333333333333333,
              "#9c179e"
             ],
             [
              0.4444444444444444,
              "#bd3786"
             ],
             [
              0.5555555555555556,
              "#d8576b"
             ],
             [
              0.6666666666666666,
              "#ed7953"
             ],
             [
              0.7777777777777778,
              "#fb9f3a"
             ],
             [
              0.8888888888888888,
              "#fdca26"
             ],
             [
              1,
              "#f0f921"
             ]
            ],
            "type": "histogram2d"
           }
          ],
          "histogram2dcontour": [
           {
            "colorbar": {
             "outlinewidth": 0,
             "ticks": ""
            },
            "colorscale": [
             [
              0,
              "#0d0887"
             ],
             [
              0.1111111111111111,
              "#46039f"
             ],
             [
              0.2222222222222222,
              "#7201a8"
             ],
             [
              0.3333333333333333,
              "#9c179e"
             ],
             [
              0.4444444444444444,
              "#bd3786"
             ],
             [
              0.5555555555555556,
              "#d8576b"
             ],
             [
              0.6666666666666666,
              "#ed7953"
             ],
             [
              0.7777777777777778,
              "#fb9f3a"
             ],
             [
              0.8888888888888888,
              "#fdca26"
             ],
             [
              1,
              "#f0f921"
             ]
            ],
            "type": "histogram2dcontour"
           }
          ],
          "mesh3d": [
           {
            "colorbar": {
             "outlinewidth": 0,
             "ticks": ""
            },
            "type": "mesh3d"
           }
          ],
          "parcoords": [
           {
            "line": {
             "colorbar": {
              "outlinewidth": 0,
              "ticks": ""
             }
            },
            "type": "parcoords"
           }
          ],
          "pie": [
           {
            "automargin": true,
            "type": "pie"
           }
          ],
          "scatter": [
           {
            "marker": {
             "colorbar": {
              "outlinewidth": 0,
              "ticks": ""
             }
            },
            "type": "scatter"
           }
          ],
          "scatter3d": [
           {
            "line": {
             "colorbar": {
              "outlinewidth": 0,
              "ticks": ""
             }
            },
            "marker": {
             "colorbar": {
              "outlinewidth": 0,
              "ticks": ""
             }
            },
            "type": "scatter3d"
           }
          ],
          "scattercarpet": [
           {
            "marker": {
             "colorbar": {
              "outlinewidth": 0,
              "ticks": ""
             }
            },
            "type": "scattercarpet"
           }
          ],
          "scattergeo": [
           {
            "marker": {
             "colorbar": {
              "outlinewidth": 0,
              "ticks": ""
             }
            },
            "type": "scattergeo"
           }
          ],
          "scattergl": [
           {
            "marker": {
             "colorbar": {
              "outlinewidth": 0,
              "ticks": ""
             }
            },
            "type": "scattergl"
           }
          ],
          "scattermapbox": [
           {
            "marker": {
             "colorbar": {
              "outlinewidth": 0,
              "ticks": ""
             }
            },
            "type": "scattermapbox"
           }
          ],
          "scatterpolar": [
           {
            "marker": {
             "colorbar": {
              "outlinewidth": 0,
              "ticks": ""
             }
            },
            "type": "scatterpolar"
           }
          ],
          "scatterpolargl": [
           {
            "marker": {
             "colorbar": {
              "outlinewidth": 0,
              "ticks": ""
             }
            },
            "type": "scatterpolargl"
           }
          ],
          "scatterternary": [
           {
            "marker": {
             "colorbar": {
              "outlinewidth": 0,
              "ticks": ""
             }
            },
            "type": "scatterternary"
           }
          ],
          "surface": [
           {
            "colorbar": {
             "outlinewidth": 0,
             "ticks": ""
            },
            "colorscale": [
             [
              0,
              "#0d0887"
             ],
             [
              0.1111111111111111,
              "#46039f"
             ],
             [
              0.2222222222222222,
              "#7201a8"
             ],
             [
              0.3333333333333333,
              "#9c179e"
             ],
             [
              0.4444444444444444,
              "#bd3786"
             ],
             [
              0.5555555555555556,
              "#d8576b"
             ],
             [
              0.6666666666666666,
              "#ed7953"
             ],
             [
              0.7777777777777778,
              "#fb9f3a"
             ],
             [
              0.8888888888888888,
              "#fdca26"
             ],
             [
              1,
              "#f0f921"
             ]
            ],
            "type": "surface"
           }
          ],
          "table": [
           {
            "cells": {
             "fill": {
              "color": "#EBF0F8"
             },
             "line": {
              "color": "white"
             }
            },
            "header": {
             "fill": {
              "color": "#C8D4E3"
             },
             "line": {
              "color": "white"
             }
            },
            "type": "table"
           }
          ]
         },
         "layout": {
          "annotationdefaults": {
           "arrowcolor": "#2a3f5f",
           "arrowhead": 0,
           "arrowwidth": 1
          },
          "autotypenumbers": "strict",
          "coloraxis": {
           "colorbar": {
            "outlinewidth": 0,
            "ticks": ""
           }
          },
          "colorscale": {
           "diverging": [
            [
             0,
             "#8e0152"
            ],
            [
             0.1,
             "#c51b7d"
            ],
            [
             0.2,
             "#de77ae"
            ],
            [
             0.3,
             "#f1b6da"
            ],
            [
             0.4,
             "#fde0ef"
            ],
            [
             0.5,
             "#f7f7f7"
            ],
            [
             0.6,
             "#e6f5d0"
            ],
            [
             0.7,
             "#b8e186"
            ],
            [
             0.8,
             "#7fbc41"
            ],
            [
             0.9,
             "#4d9221"
            ],
            [
             1,
             "#276419"
            ]
           ],
           "sequential": [
            [
             0,
             "#0d0887"
            ],
            [
             0.1111111111111111,
             "#46039f"
            ],
            [
             0.2222222222222222,
             "#7201a8"
            ],
            [
             0.3333333333333333,
             "#9c179e"
            ],
            [
             0.4444444444444444,
             "#bd3786"
            ],
            [
             0.5555555555555556,
             "#d8576b"
            ],
            [
             0.6666666666666666,
             "#ed7953"
            ],
            [
             0.7777777777777778,
             "#fb9f3a"
            ],
            [
             0.8888888888888888,
             "#fdca26"
            ],
            [
             1,
             "#f0f921"
            ]
           ],
           "sequentialminus": [
            [
             0,
             "#0d0887"
            ],
            [
             0.1111111111111111,
             "#46039f"
            ],
            [
             0.2222222222222222,
             "#7201a8"
            ],
            [
             0.3333333333333333,
             "#9c179e"
            ],
            [
             0.4444444444444444,
             "#bd3786"
            ],
            [
             0.5555555555555556,
             "#d8576b"
            ],
            [
             0.6666666666666666,
             "#ed7953"
            ],
            [
             0.7777777777777778,
             "#fb9f3a"
            ],
            [
             0.8888888888888888,
             "#fdca26"
            ],
            [
             1,
             "#f0f921"
            ]
           ]
          },
          "colorway": [
           "#636efa",
           "#EF553B",
           "#00cc96",
           "#ab63fa",
           "#FFA15A",
           "#19d3f3",
           "#FF6692",
           "#B6E880",
           "#FF97FF",
           "#FECB52"
          ],
          "font": {
           "color": "#2a3f5f"
          },
          "geo": {
           "bgcolor": "white",
           "lakecolor": "white",
           "landcolor": "#E5ECF6",
           "showlakes": true,
           "showland": true,
           "subunitcolor": "white"
          },
          "hoverlabel": {
           "align": "left"
          },
          "hovermode": "closest",
          "mapbox": {
           "style": "light"
          },
          "paper_bgcolor": "white",
          "plot_bgcolor": "#E5ECF6",
          "polar": {
           "angularaxis": {
            "gridcolor": "white",
            "linecolor": "white",
            "ticks": ""
           },
           "bgcolor": "#E5ECF6",
           "radialaxis": {
            "gridcolor": "white",
            "linecolor": "white",
            "ticks": ""
           }
          },
          "scene": {
           "xaxis": {
            "backgroundcolor": "#E5ECF6",
            "gridcolor": "white",
            "gridwidth": 2,
            "linecolor": "white",
            "showbackground": true,
            "ticks": "",
            "zerolinecolor": "white"
           },
           "yaxis": {
            "backgroundcolor": "#E5ECF6",
            "gridcolor": "white",
            "gridwidth": 2,
            "linecolor": "white",
            "showbackground": true,
            "ticks": "",
            "zerolinecolor": "white"
           },
           "zaxis": {
            "backgroundcolor": "#E5ECF6",
            "gridcolor": "white",
            "gridwidth": 2,
            "linecolor": "white",
            "showbackground": true,
            "ticks": "",
            "zerolinecolor": "white"
           }
          },
          "shapedefaults": {
           "line": {
            "color": "#2a3f5f"
           }
          },
          "ternary": {
           "aaxis": {
            "gridcolor": "white",
            "linecolor": "white",
            "ticks": ""
           },
           "baxis": {
            "gridcolor": "white",
            "linecolor": "white",
            "ticks": ""
           },
           "bgcolor": "#E5ECF6",
           "caxis": {
            "gridcolor": "white",
            "linecolor": "white",
            "ticks": ""
           }
          },
          "title": {
           "x": 0.05
          },
          "xaxis": {
           "automargin": true,
           "gridcolor": "white",
           "linecolor": "white",
           "ticks": "",
           "title": {
            "standoff": 15
           },
           "zerolinecolor": "white",
           "zerolinewidth": 2
          },
          "yaxis": {
           "automargin": true,
           "gridcolor": "white",
           "linecolor": "white",
           "ticks": "",
           "title": {
            "standoff": 15
           },
           "zerolinecolor": "white",
           "zerolinewidth": 2
          }
         }
        },
        "xaxis": {
         "anchor": "y",
         "domain": [
          0,
          1
         ],
         "title": {
          "text": "Scheduler"
         }
        },
        "yaxis": {
         "anchor": "x",
         "domain": [
          0,
          1
         ],
         "title": {
          "text": "finish times"
         }
        }
       }
      },
      "text/html": [
       "<div>                            <div id=\"9e23b57f-56e2-454b-afa8-47356acaa418\" class=\"plotly-graph-div\" style=\"height:525px; width:100%;\"></div>            <script type=\"text/javascript\">                require([\"plotly\"], function(Plotly) {                    window.PLOTLYENV=window.PLOTLYENV || {};                                    if (document.getElementById(\"9e23b57f-56e2-454b-afa8-47356acaa418\")) {                    Plotly.newPlot(                        \"9e23b57f-56e2-454b-afa8-47356acaa418\",                        [{\"alignmentgroup\":\"True\",\"boxpoints\":\"all\",\"hovertemplate\":\"CPU stress=False<br>Scheduler=%{x}<br>finish times=%{y}<extra></extra>\",\"legendgroup\":\"False\",\"marker\":{\"color\":\"#636efa\"},\"name\":\"False\",\"notched\":false,\"offsetgroup\":\"False\",\"orientation\":\"v\",\"showlegend\":true,\"type\":\"box\",\"x\":[\"EDF\",\"EDF\",\"EDF\",\"EDF\",\"EDF\",\"EDF\",\"EDF\",\"EDF\",\"EDF\",\"EDF\",\"EDF\",\"EDF\",\"EDF\",\"EDF\",\"EDF\",\"EDF\",\"EDF\",\"EDF\",\"EDF\",\"EDF\",\"EDF\",\"EDF\",\"EDF\",\"EDF\",\"EDF\",\"EDF\",\"EDF\",\"EDF\",\"EDF\",\"EDF\",\"EDF\",\"EDF\",\"EDF\",\"EDF\",\"EDF\",\"EDF\",\"EDF\",\"EDF\",\"EDF\",\"EDF\",\"EDF\",\"EDF\",\"EDF\",\"EDF\",\"EDF\",\"EDF\",\"EDF\",\"EDF\",\"EDF\",\"EDF\",\"EDF\",\"EDF\",\"EDF\",\"EDF\",\"EDF\",\"EDF\",\"EDF\",\"EDF\",\"EDF\",\"EDF\",\"EDF\",\"EDF\",\"EDF\",\"EDF\",\"EDF\",\"EDF\",\"EDF\",\"EDF\",\"EDF\",\"EDF\",\"EDF\",\"EDF\",\"EDF\",\"EDF\",\"EDF\",\"EDF\",\"EDF\",\"EDF\",\"EDF\",\"EDF\",\"EDF\",\"EDF\",\"EDF\",\"EDF\",\"EDF\",\"EDF\",\"EDF\",\"EDF\",\"EDF\",\"EDF\",\"EDF\",\"EDF\",\"EDF\",\"EDF\",\"EDF\",\"EDF\",\"EDF\",\"EDF\",\"EDF\",\"EDF\",\"Default\",\"Default\",\"Default\",\"Default\",\"Default\",\"Default\",\"Default\",\"Default\",\"Default\",\"Default\",\"Default\",\"Default\",\"Default\",\"Default\",\"Default\",\"Default\",\"Default\",\"Default\",\"Default\",\"Default\",\"Default\",\"Default\",\"Default\",\"Default\",\"Default\",\"Default\",\"Default\",\"Default\",\"Default\",\"Default\",\"Default\",\"Default\",\"Default\",\"Default\",\"Default\",\"Default\",\"Default\",\"Default\",\"Default\",\"Default\",\"Default\",\"Default\",\"Default\",\"Default\",\"Default\",\"Default\",\"Default\",\"Default\",\"Default\",\"Default\",\"Default\",\"Default\",\"Default\",\"Default\",\"Default\",\"Default\",\"Default\",\"Default\",\"Default\",\"Default\",\"Default\",\"Default\",\"Default\",\"Default\",\"Default\",\"Default\",\"Default\",\"Default\",\"Default\",\"Default\",\"Default\",\"Default\",\"Default\",\"Default\",\"Default\",\"Default\",\"Default\",\"Default\",\"Default\",\"Default\",\"Default\",\"Default\",\"Default\",\"Default\",\"Default\",\"Default\",\"Default\",\"Default\",\"Default\",\"Default\",\"Default\",\"Default\",\"Default\",\"Default\",\"Default\",\"Default\",\"Default\",\"Default\",\"Default\",\"Default\"],\"x0\":\" \",\"xaxis\":\"x\",\"y\":[500151457,500070538,500034226,500068408,500150492,500075624,500081397,500067150,500107582,500124203,500153798,500188272,500059595,500084220,500122729,500127877,500144722,500118447,500132167,500120842,500110991,500111778,500158403,500109614,500075813,500093531,500146174,500105624,500161861,500065868,500117628,500086793,500148027,500069935,500358245,500067929,500114645,500172180,500068157,500025457,500315331,500091447,500161568,500062079,500075834,500093709,500096453,500056080,500130597,500079067,500077517,500117571,500153609,500088003,500172147,500160540,500041044,500087672,500092496,500162545,500117472,500079893,500097880,500312038,500090098,500068946,500032641,500059794,500110341,500064397,500118389,500149018,500121480,500106867,500122041,500119849,500062633,500145360,500058764,500394444,500033013,500467821,500079142,500093607,500133268,500150579,500142272,500034412,500069089,500061705,500173605,500140511,500139984,500141146,500138903,500082558,500072812,500078844,500203605,500070325,500658904,500580162,500790752,501375492,500550118,500600137,500609747,500739710,504866386,500613158,500617577,500613244,501036447,500354390,500574220,500569635,500620030,500593785,500610790,500639492,500600274,500136186,500571911,500580183,500578505,500610414,500566770,500617743,500298390,500576135,500539454,500656476,500604102,500557155,501006661,500577355,500594072,500266251,500629962,500626642,500356399,500564165,500604835,500589632,500565076,500572520,500644395,500158570,500564301,500576466,500661935,500611737,500615587,500657480,500591463,500566075,500225587,500295694,500638907,500802082,500656330,500716317,500465617,500584090,500619746,500585381,500563769,500254961,500554150,500646551,500628443,500629676,500368454,500559030,500473047,500209788,500119425,500289880,500591761,500613598,500691970,500583262,500566604,500558401,500697229,500629358,500604316,500643570,500565483,500562580,500622833,500764816,500634443,500696325,500941766,500648324,500621555,500623135,500584944,500607489],\"y0\":\" \",\"yaxis\":\"y\"},{\"alignmentgroup\":\"True\",\"boxpoints\":\"all\",\"hovertemplate\":\"CPU stress=True<br>Scheduler=%{x}<br>finish times=%{y}<extra></extra>\",\"legendgroup\":\"True\",\"marker\":{\"color\":\"#EF553B\"},\"name\":\"True\",\"notched\":false,\"offsetgroup\":\"True\",\"orientation\":\"v\",\"showlegend\":true,\"type\":\"box\",\"x\":[\"EDF\",\"EDF\",\"EDF\",\"EDF\",\"EDF\",\"EDF\",\"EDF\",\"EDF\",\"EDF\",\"EDF\",\"EDF\",\"EDF\",\"EDF\",\"EDF\",\"EDF\",\"EDF\",\"EDF\",\"EDF\",\"EDF\",\"EDF\",\"EDF\",\"EDF\",\"EDF\",\"EDF\",\"EDF\",\"EDF\",\"EDF\",\"EDF\",\"EDF\",\"EDF\",\"EDF\",\"EDF\",\"EDF\",\"EDF\",\"EDF\",\"EDF\",\"EDF\",\"EDF\",\"EDF\",\"EDF\",\"EDF\",\"EDF\",\"EDF\",\"EDF\",\"EDF\",\"EDF\",\"EDF\",\"EDF\",\"EDF\",\"EDF\",\"EDF\",\"EDF\",\"EDF\",\"EDF\",\"EDF\",\"EDF\",\"EDF\",\"EDF\",\"EDF\",\"EDF\",\"EDF\",\"EDF\",\"EDF\",\"EDF\",\"EDF\",\"EDF\",\"EDF\",\"EDF\",\"EDF\",\"EDF\",\"EDF\",\"EDF\",\"EDF\",\"EDF\",\"EDF\",\"EDF\",\"EDF\",\"EDF\",\"EDF\",\"EDF\",\"EDF\",\"EDF\",\"EDF\",\"EDF\",\"EDF\",\"EDF\",\"EDF\",\"EDF\",\"EDF\",\"EDF\",\"EDF\",\"EDF\",\"EDF\",\"EDF\",\"EDF\",\"EDF\",\"EDF\",\"EDF\",\"EDF\",\"EDF\",\"Default\",\"Default\",\"Default\",\"Default\",\"Default\",\"Default\",\"Default\",\"Default\",\"Default\",\"Default\",\"Default\",\"Default\",\"Default\",\"Default\",\"Default\",\"Default\",\"Default\",\"Default\",\"Default\",\"Default\",\"Default\",\"Default\",\"Default\",\"Default\",\"Default\",\"Default\",\"Default\",\"Default\",\"Default\",\"Default\",\"Default\",\"Default\",\"Default\",\"Default\",\"Default\",\"Default\",\"Default\",\"Default\",\"Default\",\"Default\",\"Default\",\"Default\",\"Default\",\"Default\",\"Default\",\"Default\",\"Default\",\"Default\",\"Default\",\"Default\",\"Default\",\"Default\",\"Default\",\"Default\",\"Default\",\"Default\",\"Default\",\"Default\",\"Default\",\"Default\",\"Default\",\"Default\",\"Default\",\"Default\",\"Default\",\"Default\",\"Default\",\"Default\",\"Default\",\"Default\",\"Default\",\"Default\",\"Default\",\"Default\",\"Default\",\"Default\",\"Default\",\"Default\",\"Default\",\"Default\",\"Default\",\"Default\",\"Default\",\"Default\",\"Default\",\"Default\",\"Default\",\"Default\",\"Default\",\"Default\",\"Default\",\"Default\",\"Default\",\"Default\",\"Default\",\"Default\",\"Default\",\"Default\",\"Default\",\"Default\"],\"x0\":\" \",\"xaxis\":\"x\",\"y\":[500019838,500021337,500020238,500021476,500019934,500018207,500018337,500020498,500018936,500038088,500023388,500020740,500018589,500020280,500018026,500018615,500020121,500024126,500018037,500020293,500018858,500019213,500018817,500021610,500021243,500025497,500036367,500046293,500028268,500021306,500018378,500020546,500020209,500018538,500018938,500020729,500021331,500021684,500020729,500020425,500019319,500019379,500019405,500021370,500023087,500020522,500020692,500020465,500022180,500019602,500021050,500019949,500027881,500018957,500019028,500021715,500020388,500017888,500019697,500018963,500020030,500020353,500021358,500021977,500020912,500021187,500017908,500020355,500021031,500019930,500020785,500020933,500019105,500020128,500021654,500020803,500020639,500021327,500017409,500020443,500020492,500019726,500021359,500020963,500017927,500020926,500020497,500020307,500020188,500020981,500020173,500029402,500018362,500017371,500019042,500021088,500091491,500029306,500020642,500018738,500524128,500336691,500521191,500519821,500425965,500292711,500298576,500310132,500296055,500296786,500317029,500251036,500527418,500521006,500518512,500518372,500519579,500517900,500519496,500255401,500520130,500519432,500528543,500519492,500517764,500517537,500518056,500251463,500517215,500517177,500517902,500517843,500519250,500518964,500525959,500256431,500417084,500055414,500050606,500052172,500060063,500049654,500055239,500050839,500052368,500054958,500051098,500053653,500049401,500060047,500048154,500050951,500052781,500050209,500050018,500052848,500069909,500516661,500519466,500517580,500519627,500129539,500519131,500519656,500520772,500519962,500516678,500414379,500519159,500377586,500517458,500518425,500517680,500522599,500522068,500942006,501279874,500521258,500516753,500520278,500520735,500518458,500408382,500518994,500517796,500540715,500541916,500525077,500420846,500526264,500297903,500524356,500415578,500329395,500317437,500361936,500319441,500534376,500107392,500318760],\"y0\":\" \",\"yaxis\":\"y\"}],                        {\"boxmode\":\"group\",\"legend\":{\"title\":{\"text\":\"CPU stress\"},\"tracegroupgap\":0},\"margin\":{\"t\":60},\"template\":{\"data\":{\"bar\":[{\"error_x\":{\"color\":\"#2a3f5f\"},\"error_y\":{\"color\":\"#2a3f5f\"},\"marker\":{\"line\":{\"color\":\"#E5ECF6\",\"width\":0.5},\"pattern\":{\"fillmode\":\"overlay\",\"size\":10,\"solidity\":0.2}},\"type\":\"bar\"}],\"barpolar\":[{\"marker\":{\"line\":{\"color\":\"#E5ECF6\",\"width\":0.5},\"pattern\":{\"fillmode\":\"overlay\",\"size\":10,\"solidity\":0.2}},\"type\":\"barpolar\"}],\"carpet\":[{\"aaxis\":{\"endlinecolor\":\"#2a3f5f\",\"gridcolor\":\"white\",\"linecolor\":\"white\",\"minorgridcolor\":\"white\",\"startlinecolor\":\"#2a3f5f\"},\"baxis\":{\"endlinecolor\":\"#2a3f5f\",\"gridcolor\":\"white\",\"linecolor\":\"white\",\"minorgridcolor\":\"white\",\"startlinecolor\":\"#2a3f5f\"},\"type\":\"carpet\"}],\"choropleth\":[{\"colorbar\":{\"outlinewidth\":0,\"ticks\":\"\"},\"type\":\"choropleth\"}],\"contour\":[{\"colorbar\":{\"outlinewidth\":0,\"ticks\":\"\"},\"colorscale\":[[0.0,\"#0d0887\"],[0.1111111111111111,\"#46039f\"],[0.2222222222222222,\"#7201a8\"],[0.3333333333333333,\"#9c179e\"],[0.4444444444444444,\"#bd3786\"],[0.5555555555555556,\"#d8576b\"],[0.6666666666666666,\"#ed7953\"],[0.7777777777777778,\"#fb9f3a\"],[0.8888888888888888,\"#fdca26\"],[1.0,\"#f0f921\"]],\"type\":\"contour\"}],\"contourcarpet\":[{\"colorbar\":{\"outlinewidth\":0,\"ticks\":\"\"},\"type\":\"contourcarpet\"}],\"heatmap\":[{\"colorbar\":{\"outlinewidth\":0,\"ticks\":\"\"},\"colorscale\":[[0.0,\"#0d0887\"],[0.1111111111111111,\"#46039f\"],[0.2222222222222222,\"#7201a8\"],[0.3333333333333333,\"#9c179e\"],[0.4444444444444444,\"#bd3786\"],[0.5555555555555556,\"#d8576b\"],[0.6666666666666666,\"#ed7953\"],[0.7777777777777778,\"#fb9f3a\"],[0.8888888888888888,\"#fdca26\"],[1.0,\"#f0f921\"]],\"type\":\"heatmap\"}],\"heatmapgl\":[{\"colorbar\":{\"outlinewidth\":0,\"ticks\":\"\"},\"colorscale\":[[0.0,\"#0d0887\"],[0.1111111111111111,\"#46039f\"],[0.2222222222222222,\"#7201a8\"],[0.3333333333333333,\"#9c179e\"],[0.4444444444444444,\"#bd3786\"],[0.5555555555555556,\"#d8576b\"],[0.6666666666666666,\"#ed7953\"],[0.7777777777777778,\"#fb9f3a\"],[0.8888888888888888,\"#fdca26\"],[1.0,\"#f0f921\"]],\"type\":\"heatmapgl\"}],\"histogram\":[{\"marker\":{\"pattern\":{\"fillmode\":\"overlay\",\"size\":10,\"solidity\":0.2}},\"type\":\"histogram\"}],\"histogram2d\":[{\"colorbar\":{\"outlinewidth\":0,\"ticks\":\"\"},\"colorscale\":[[0.0,\"#0d0887\"],[0.1111111111111111,\"#46039f\"],[0.2222222222222222,\"#7201a8\"],[0.3333333333333333,\"#9c179e\"],[0.4444444444444444,\"#bd3786\"],[0.5555555555555556,\"#d8576b\"],[0.6666666666666666,\"#ed7953\"],[0.7777777777777778,\"#fb9f3a\"],[0.8888888888888888,\"#fdca26\"],[1.0,\"#f0f921\"]],\"type\":\"histogram2d\"}],\"histogram2dcontour\":[{\"colorbar\":{\"outlinewidth\":0,\"ticks\":\"\"},\"colorscale\":[[0.0,\"#0d0887\"],[0.1111111111111111,\"#46039f\"],[0.2222222222222222,\"#7201a8\"],[0.3333333333333333,\"#9c179e\"],[0.4444444444444444,\"#bd3786\"],[0.5555555555555556,\"#d8576b\"],[0.6666666666666666,\"#ed7953\"],[0.7777777777777778,\"#fb9f3a\"],[0.8888888888888888,\"#fdca26\"],[1.0,\"#f0f921\"]],\"type\":\"histogram2dcontour\"}],\"mesh3d\":[{\"colorbar\":{\"outlinewidth\":0,\"ticks\":\"\"},\"type\":\"mesh3d\"}],\"parcoords\":[{\"line\":{\"colorbar\":{\"outlinewidth\":0,\"ticks\":\"\"}},\"type\":\"parcoords\"}],\"pie\":[{\"automargin\":true,\"type\":\"pie\"}],\"scatter\":[{\"marker\":{\"colorbar\":{\"outlinewidth\":0,\"ticks\":\"\"}},\"type\":\"scatter\"}],\"scatter3d\":[{\"line\":{\"colorbar\":{\"outlinewidth\":0,\"ticks\":\"\"}},\"marker\":{\"colorbar\":{\"outlinewidth\":0,\"ticks\":\"\"}},\"type\":\"scatter3d\"}],\"scattercarpet\":[{\"marker\":{\"colorbar\":{\"outlinewidth\":0,\"ticks\":\"\"}},\"type\":\"scattercarpet\"}],\"scattergeo\":[{\"marker\":{\"colorbar\":{\"outlinewidth\":0,\"ticks\":\"\"}},\"type\":\"scattergeo\"}],\"scattergl\":[{\"marker\":{\"colorbar\":{\"outlinewidth\":0,\"ticks\":\"\"}},\"type\":\"scattergl\"}],\"scattermapbox\":[{\"marker\":{\"colorbar\":{\"outlinewidth\":0,\"ticks\":\"\"}},\"type\":\"scattermapbox\"}],\"scatterpolar\":[{\"marker\":{\"colorbar\":{\"outlinewidth\":0,\"ticks\":\"\"}},\"type\":\"scatterpolar\"}],\"scatterpolargl\":[{\"marker\":{\"colorbar\":{\"outlinewidth\":0,\"ticks\":\"\"}},\"type\":\"scatterpolargl\"}],\"scatterternary\":[{\"marker\":{\"colorbar\":{\"outlinewidth\":0,\"ticks\":\"\"}},\"type\":\"scatterternary\"}],\"surface\":[{\"colorbar\":{\"outlinewidth\":0,\"ticks\":\"\"},\"colorscale\":[[0.0,\"#0d0887\"],[0.1111111111111111,\"#46039f\"],[0.2222222222222222,\"#7201a8\"],[0.3333333333333333,\"#9c179e\"],[0.4444444444444444,\"#bd3786\"],[0.5555555555555556,\"#d8576b\"],[0.6666666666666666,\"#ed7953\"],[0.7777777777777778,\"#fb9f3a\"],[0.8888888888888888,\"#fdca26\"],[1.0,\"#f0f921\"]],\"type\":\"surface\"}],\"table\":[{\"cells\":{\"fill\":{\"color\":\"#EBF0F8\"},\"line\":{\"color\":\"white\"}},\"header\":{\"fill\":{\"color\":\"#C8D4E3\"},\"line\":{\"color\":\"white\"}},\"type\":\"table\"}]},\"layout\":{\"annotationdefaults\":{\"arrowcolor\":\"#2a3f5f\",\"arrowhead\":0,\"arrowwidth\":1},\"autotypenumbers\":\"strict\",\"coloraxis\":{\"colorbar\":{\"outlinewidth\":0,\"ticks\":\"\"}},\"colorscale\":{\"diverging\":[[0,\"#8e0152\"],[0.1,\"#c51b7d\"],[0.2,\"#de77ae\"],[0.3,\"#f1b6da\"],[0.4,\"#fde0ef\"],[0.5,\"#f7f7f7\"],[0.6,\"#e6f5d0\"],[0.7,\"#b8e186\"],[0.8,\"#7fbc41\"],[0.9,\"#4d9221\"],[1,\"#276419\"]],\"sequential\":[[0.0,\"#0d0887\"],[0.1111111111111111,\"#46039f\"],[0.2222222222222222,\"#7201a8\"],[0.3333333333333333,\"#9c179e\"],[0.4444444444444444,\"#bd3786\"],[0.5555555555555556,\"#d8576b\"],[0.6666666666666666,\"#ed7953\"],[0.7777777777777778,\"#fb9f3a\"],[0.8888888888888888,\"#fdca26\"],[1.0,\"#f0f921\"]],\"sequentialminus\":[[0.0,\"#0d0887\"],[0.1111111111111111,\"#46039f\"],[0.2222222222222222,\"#7201a8\"],[0.3333333333333333,\"#9c179e\"],[0.4444444444444444,\"#bd3786\"],[0.5555555555555556,\"#d8576b\"],[0.6666666666666666,\"#ed7953\"],[0.7777777777777778,\"#fb9f3a\"],[0.8888888888888888,\"#fdca26\"],[1.0,\"#f0f921\"]]},\"colorway\":[\"#636efa\",\"#EF553B\",\"#00cc96\",\"#ab63fa\",\"#FFA15A\",\"#19d3f3\",\"#FF6692\",\"#B6E880\",\"#FF97FF\",\"#FECB52\"],\"font\":{\"color\":\"#2a3f5f\"},\"geo\":{\"bgcolor\":\"white\",\"lakecolor\":\"white\",\"landcolor\":\"#E5ECF6\",\"showlakes\":true,\"showland\":true,\"subunitcolor\":\"white\"},\"hoverlabel\":{\"align\":\"left\"},\"hovermode\":\"closest\",\"mapbox\":{\"style\":\"light\"},\"paper_bgcolor\":\"white\",\"plot_bgcolor\":\"#E5ECF6\",\"polar\":{\"angularaxis\":{\"gridcolor\":\"white\",\"linecolor\":\"white\",\"ticks\":\"\"},\"bgcolor\":\"#E5ECF6\",\"radialaxis\":{\"gridcolor\":\"white\",\"linecolor\":\"white\",\"ticks\":\"\"}},\"scene\":{\"xaxis\":{\"backgroundcolor\":\"#E5ECF6\",\"gridcolor\":\"white\",\"gridwidth\":2,\"linecolor\":\"white\",\"showbackground\":true,\"ticks\":\"\",\"zerolinecolor\":\"white\"},\"yaxis\":{\"backgroundcolor\":\"#E5ECF6\",\"gridcolor\":\"white\",\"gridwidth\":2,\"linecolor\":\"white\",\"showbackground\":true,\"ticks\":\"\",\"zerolinecolor\":\"white\"},\"zaxis\":{\"backgroundcolor\":\"#E5ECF6\",\"gridcolor\":\"white\",\"gridwidth\":2,\"linecolor\":\"white\",\"showbackground\":true,\"ticks\":\"\",\"zerolinecolor\":\"white\"}},\"shapedefaults\":{\"line\":{\"color\":\"#2a3f5f\"}},\"ternary\":{\"aaxis\":{\"gridcolor\":\"white\",\"linecolor\":\"white\",\"ticks\":\"\"},\"baxis\":{\"gridcolor\":\"white\",\"linecolor\":\"white\",\"ticks\":\"\"},\"bgcolor\":\"#E5ECF6\",\"caxis\":{\"gridcolor\":\"white\",\"linecolor\":\"white\",\"ticks\":\"\"}},\"title\":{\"x\":0.05},\"xaxis\":{\"automargin\":true,\"gridcolor\":\"white\",\"linecolor\":\"white\",\"ticks\":\"\",\"title\":{\"standoff\":15},\"zerolinecolor\":\"white\",\"zerolinewidth\":2},\"yaxis\":{\"automargin\":true,\"gridcolor\":\"white\",\"linecolor\":\"white\",\"ticks\":\"\",\"title\":{\"standoff\":15},\"zerolinecolor\":\"white\",\"zerolinewidth\":2}}},\"xaxis\":{\"anchor\":\"y\",\"domain\":[0.0,1.0],\"title\":{\"text\":\"Scheduler\"}},\"yaxis\":{\"anchor\":\"x\",\"domain\":[0.0,1.0],\"title\":{\"text\":\"finish times\"}}},                        {\"responsive\": true}                    ).then(function(){\n",
       "                            \n",
       "var gd = document.getElementById('9e23b57f-56e2-454b-afa8-47356acaa418');\n",
       "var x = new MutationObserver(function (mutations, observer) {{\n",
       "        var display = window.getComputedStyle(gd).display;\n",
       "        if (!display || display === 'none') {{\n",
       "            console.log([gd, 'removed!']);\n",
       "            Plotly.purge(gd);\n",
       "            observer.disconnect();\n",
       "        }}\n",
       "}});\n",
       "\n",
       "// Listen for the removal of the full notebook cells\n",
       "var notebookContainer = gd.closest('#notebook-container');\n",
       "if (notebookContainer) {{\n",
       "    x.observe(notebookContainer, {childList: true});\n",
       "}}\n",
       "\n",
       "// Listen for the clearing of the current output cell\n",
       "var outputEl = gd.closest('.output');\n",
       "if (outputEl) {{\n",
       "    x.observe(outputEl, {childList: true});\n",
       "}}\n",
       "\n",
       "                        })                };                });            </script>        </div>"
      ]
     },
     "metadata": {},
     "output_type": "display_data"
    }
   ],
   "source": [
    "fig = px.box(finish_times, x=\"Scheduler\", y=\"finish times\", color='CPU stress', points=\"all\")\n",
    "fig.show()"
   ]
  },
  {
   "cell_type": "code",
   "execution_count": null,
   "id": "4ff752ad",
   "metadata": {},
   "outputs": [],
   "source": []
  }
 ],
 "metadata": {
  "kernelspec": {
   "display_name": "Python 3 (ipykernel)",
   "language": "python",
   "name": "python3"
  },
  "language_info": {
   "codemirror_mode": {
    "name": "ipython",
    "version": 3
   },
   "file_extension": ".py",
   "mimetype": "text/x-python",
   "name": "python",
   "nbconvert_exporter": "python",
   "pygments_lexer": "ipython3",
   "version": "3.8.10"
  }
 },
 "nbformat": 4,
 "nbformat_minor": 5
}
